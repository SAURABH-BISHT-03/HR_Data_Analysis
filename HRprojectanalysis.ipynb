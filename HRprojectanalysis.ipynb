{
 "cells": [
  {
   "cell_type": "code",
   "execution_count": 1,
   "id": "392cdd92",
   "metadata": {},
   "outputs": [],
   "source": [
    "import pandas as pd\n",
    "import numpy as np\n",
    "import matplotlib.pyplot as plt\n",
    "%matplotlib inline\n",
    "\n",
    "import seaborn as sns"
   ]
  },
  {
   "cell_type": "code",
   "execution_count": 2,
   "id": "0552e895",
   "metadata": {},
   "outputs": [],
   "source": [
    "df = pd.read_csv(r\"F:\\DataSets\\HR_Data_MNC_Data Science Lovers.csv\")"
   ]
  },
  {
   "cell_type": "code",
   "execution_count": 3,
   "id": "82bf664f",
   "metadata": {},
   "outputs": [
    {
     "data": {
      "text/html": [
       "<div>\n",
       "<style scoped>\n",
       "    .dataframe tbody tr th:only-of-type {\n",
       "        vertical-align: middle;\n",
       "    }\n",
       "\n",
       "    .dataframe tbody tr th {\n",
       "        vertical-align: top;\n",
       "    }\n",
       "\n",
       "    .dataframe thead th {\n",
       "        text-align: right;\n",
       "    }\n",
       "</style>\n",
       "<table border=\"1\" class=\"dataframe\">\n",
       "  <thead>\n",
       "    <tr style=\"text-align: right;\">\n",
       "      <th></th>\n",
       "      <th>Unnamed: 0</th>\n",
       "      <th>Employee_ID</th>\n",
       "      <th>Full_Name</th>\n",
       "      <th>Department</th>\n",
       "      <th>Job_Title</th>\n",
       "      <th>Hire_Date</th>\n",
       "      <th>Location</th>\n",
       "      <th>Performance_Rating</th>\n",
       "      <th>Experience_Years</th>\n",
       "      <th>Status</th>\n",
       "      <th>Work_Mode</th>\n",
       "      <th>Salary_INR</th>\n",
       "    </tr>\n",
       "  </thead>\n",
       "  <tbody>\n",
       "    <tr>\n",
       "      <th>0</th>\n",
       "      <td>0</td>\n",
       "      <td>EMP0000001</td>\n",
       "      <td>Joshua Nguyen</td>\n",
       "      <td>IT</td>\n",
       "      <td>Software Engineer</td>\n",
       "      <td>2011-08-10</td>\n",
       "      <td>Isaacland, Denmark</td>\n",
       "      <td>5</td>\n",
       "      <td>14</td>\n",
       "      <td>Resigned</td>\n",
       "      <td>On-site</td>\n",
       "      <td>1585363</td>\n",
       "    </tr>\n",
       "    <tr>\n",
       "      <th>1</th>\n",
       "      <td>1</td>\n",
       "      <td>EMP0000002</td>\n",
       "      <td>Julie Williams</td>\n",
       "      <td>Marketing</td>\n",
       "      <td>SEO Specialist</td>\n",
       "      <td>2018-03-02</td>\n",
       "      <td>Anthonyside, Costa Rica</td>\n",
       "      <td>2</td>\n",
       "      <td>7</td>\n",
       "      <td>Active</td>\n",
       "      <td>On-site</td>\n",
       "      <td>847686</td>\n",
       "    </tr>\n",
       "    <tr>\n",
       "      <th>2</th>\n",
       "      <td>2</td>\n",
       "      <td>EMP0000003</td>\n",
       "      <td>Alyssa Martinez</td>\n",
       "      <td>HR</td>\n",
       "      <td>HR Manager</td>\n",
       "      <td>2023-03-20</td>\n",
       "      <td>Port Christinaport, Saudi Arabia</td>\n",
       "      <td>1</td>\n",
       "      <td>2</td>\n",
       "      <td>Active</td>\n",
       "      <td>On-site</td>\n",
       "      <td>1430084</td>\n",
       "    </tr>\n",
       "    <tr>\n",
       "      <th>3</th>\n",
       "      <td>3</td>\n",
       "      <td>EMP0000004</td>\n",
       "      <td>Nicholas Valdez</td>\n",
       "      <td>IT</td>\n",
       "      <td>Software Engineer</td>\n",
       "      <td>2023-10-12</td>\n",
       "      <td>Port Shelbychester, Antigua and Barbuda</td>\n",
       "      <td>1</td>\n",
       "      <td>1</td>\n",
       "      <td>Active</td>\n",
       "      <td>On-site</td>\n",
       "      <td>990689</td>\n",
       "    </tr>\n",
       "    <tr>\n",
       "      <th>4</th>\n",
       "      <td>4</td>\n",
       "      <td>EMP0000005</td>\n",
       "      <td>Joel Hendricks</td>\n",
       "      <td>Operations</td>\n",
       "      <td>Logistics Coordinator</td>\n",
       "      <td>2024-12-09</td>\n",
       "      <td>Lake Kimberly, Palestinian Territory</td>\n",
       "      <td>5</td>\n",
       "      <td>0</td>\n",
       "      <td>Active</td>\n",
       "      <td>On-site</td>\n",
       "      <td>535082</td>\n",
       "    </tr>\n",
       "  </tbody>\n",
       "</table>\n",
       "</div>"
      ],
      "text/plain": [
       "   Unnamed: 0 Employee_ID        Full_Name  Department              Job_Title  \\\n",
       "0           0  EMP0000001    Joshua Nguyen          IT      Software Engineer   \n",
       "1           1  EMP0000002   Julie Williams   Marketing         SEO Specialist   \n",
       "2           2  EMP0000003  Alyssa Martinez          HR             HR Manager   \n",
       "3           3  EMP0000004  Nicholas Valdez          IT      Software Engineer   \n",
       "4           4  EMP0000005   Joel Hendricks  Operations  Logistics Coordinator   \n",
       "\n",
       "    Hire_Date                                 Location  Performance_Rating  \\\n",
       "0  2011-08-10                       Isaacland, Denmark                   5   \n",
       "1  2018-03-02                  Anthonyside, Costa Rica                   2   \n",
       "2  2023-03-20         Port Christinaport, Saudi Arabia                   1   \n",
       "3  2023-10-12  Port Shelbychester, Antigua and Barbuda                   1   \n",
       "4  2024-12-09     Lake Kimberly, Palestinian Territory                   5   \n",
       "\n",
       "   Experience_Years    Status Work_Mode  Salary_INR  \n",
       "0                14  Resigned   On-site     1585363  \n",
       "1                 7    Active   On-site      847686  \n",
       "2                 2    Active   On-site     1430084  \n",
       "3                 1    Active   On-site      990689  \n",
       "4                 0    Active   On-site      535082  "
      ]
     },
     "execution_count": 3,
     "metadata": {},
     "output_type": "execute_result"
    }
   ],
   "source": [
    "df.head()"
   ]
  },
  {
   "cell_type": "code",
   "execution_count": 4,
   "id": "1b790ec7",
   "metadata": {},
   "outputs": [
    {
     "name": "stdout",
     "output_type": "stream",
     "text": [
      "<class 'pandas.core.frame.DataFrame'>\n",
      "RangeIndex: 2000000 entries, 0 to 1999999\n",
      "Data columns (total 12 columns):\n",
      " #   Column              Dtype \n",
      "---  ------              ----- \n",
      " 0   Unnamed: 0          int64 \n",
      " 1   Employee_ID         object\n",
      " 2   Full_Name           object\n",
      " 3   Department          object\n",
      " 4   Job_Title           object\n",
      " 5   Hire_Date           object\n",
      " 6   Location            object\n",
      " 7   Performance_Rating  int64 \n",
      " 8   Experience_Years    int64 \n",
      " 9   Status              object\n",
      " 10  Work_Mode           object\n",
      " 11  Salary_INR          int64 \n",
      "dtypes: int64(4), object(8)\n",
      "memory usage: 183.1+ MB\n"
     ]
    }
   ],
   "source": [
    "# Basic Information about the dataset\n",
    "\n",
    "df.info()"
   ]
  },
  {
   "cell_type": "code",
   "execution_count": 5,
   "id": "09765fab",
   "metadata": {},
   "outputs": [
    {
     "data": {
      "text/html": [
       "<div>\n",
       "<style scoped>\n",
       "    .dataframe tbody tr th:only-of-type {\n",
       "        vertical-align: middle;\n",
       "    }\n",
       "\n",
       "    .dataframe tbody tr th {\n",
       "        vertical-align: top;\n",
       "    }\n",
       "\n",
       "    .dataframe thead th {\n",
       "        text-align: right;\n",
       "    }\n",
       "</style>\n",
       "<table border=\"1\" class=\"dataframe\">\n",
       "  <thead>\n",
       "    <tr style=\"text-align: right;\">\n",
       "      <th></th>\n",
       "      <th>Unnamed: 0</th>\n",
       "      <th>Performance_Rating</th>\n",
       "      <th>Experience_Years</th>\n",
       "      <th>Salary_INR</th>\n",
       "    </tr>\n",
       "  </thead>\n",
       "  <tbody>\n",
       "    <tr>\n",
       "      <th>count</th>\n",
       "      <td>2.000000e+06</td>\n",
       "      <td>2.000000e+06</td>\n",
       "      <td>2.000000e+06</td>\n",
       "      <td>2.000000e+06</td>\n",
       "    </tr>\n",
       "    <tr>\n",
       "      <th>mean</th>\n",
       "      <td>9.999995e+05</td>\n",
       "      <td>3.000148e+00</td>\n",
       "      <td>5.010287e+00</td>\n",
       "      <td>8.968878e+05</td>\n",
       "    </tr>\n",
       "    <tr>\n",
       "      <th>std</th>\n",
       "      <td>5.773504e+05</td>\n",
       "      <td>1.413973e+00</td>\n",
       "      <td>3.608823e+00</td>\n",
       "      <td>4.026103e+05</td>\n",
       "    </tr>\n",
       "    <tr>\n",
       "      <th>min</th>\n",
       "      <td>0.000000e+00</td>\n",
       "      <td>1.000000e+00</td>\n",
       "      <td>0.000000e+00</td>\n",
       "      <td>3.000000e+05</td>\n",
       "    </tr>\n",
       "    <tr>\n",
       "      <th>25%</th>\n",
       "      <td>4.999998e+05</td>\n",
       "      <td>2.000000e+00</td>\n",
       "      <td>2.000000e+00</td>\n",
       "      <td>6.163460e+05</td>\n",
       "    </tr>\n",
       "    <tr>\n",
       "      <th>50%</th>\n",
       "      <td>9.999995e+05</td>\n",
       "      <td>3.000000e+00</td>\n",
       "      <td>5.000000e+00</td>\n",
       "      <td>8.110265e+05</td>\n",
       "    </tr>\n",
       "    <tr>\n",
       "      <th>75%</th>\n",
       "      <td>1.499999e+06</td>\n",
       "      <td>4.000000e+00</td>\n",
       "      <td>8.000000e+00</td>\n",
       "      <td>1.073745e+06</td>\n",
       "    </tr>\n",
       "    <tr>\n",
       "      <th>max</th>\n",
       "      <td>1.999999e+06</td>\n",
       "      <td>5.000000e+00</td>\n",
       "      <td>1.500000e+01</td>\n",
       "      <td>2.999976e+06</td>\n",
       "    </tr>\n",
       "  </tbody>\n",
       "</table>\n",
       "</div>"
      ],
      "text/plain": [
       "         Unnamed: 0  Performance_Rating  Experience_Years    Salary_INR\n",
       "count  2.000000e+06        2.000000e+06      2.000000e+06  2.000000e+06\n",
       "mean   9.999995e+05        3.000148e+00      5.010287e+00  8.968878e+05\n",
       "std    5.773504e+05        1.413973e+00      3.608823e+00  4.026103e+05\n",
       "min    0.000000e+00        1.000000e+00      0.000000e+00  3.000000e+05\n",
       "25%    4.999998e+05        2.000000e+00      2.000000e+00  6.163460e+05\n",
       "50%    9.999995e+05        3.000000e+00      5.000000e+00  8.110265e+05\n",
       "75%    1.499999e+06        4.000000e+00      8.000000e+00  1.073745e+06\n",
       "max    1.999999e+06        5.000000e+00      1.500000e+01  2.999976e+06"
      ]
     },
     "execution_count": 5,
     "metadata": {},
     "output_type": "execute_result"
    }
   ],
   "source": [
    "df.describe()"
   ]
  },
  {
   "cell_type": "code",
   "execution_count": 6,
   "id": "4d77264d",
   "metadata": {},
   "outputs": [],
   "source": [
    "# Removing the unwanted column\n",
    "\n",
    "df.drop(\"Unnamed: 0\", axis=1, inplace=True)"
   ]
  },
  {
   "cell_type": "code",
   "execution_count": 7,
   "id": "5083c728",
   "metadata": {},
   "outputs": [
    {
     "data": {
      "text/html": [
       "<div>\n",
       "<style scoped>\n",
       "    .dataframe tbody tr th:only-of-type {\n",
       "        vertical-align: middle;\n",
       "    }\n",
       "\n",
       "    .dataframe tbody tr th {\n",
       "        vertical-align: top;\n",
       "    }\n",
       "\n",
       "    .dataframe thead th {\n",
       "        text-align: right;\n",
       "    }\n",
       "</style>\n",
       "<table border=\"1\" class=\"dataframe\">\n",
       "  <thead>\n",
       "    <tr style=\"text-align: right;\">\n",
       "      <th></th>\n",
       "      <th>Employee_ID</th>\n",
       "      <th>Full_Name</th>\n",
       "      <th>Department</th>\n",
       "      <th>Job_Title</th>\n",
       "      <th>Hire_Date</th>\n",
       "      <th>Location</th>\n",
       "      <th>Performance_Rating</th>\n",
       "      <th>Experience_Years</th>\n",
       "      <th>Status</th>\n",
       "      <th>Work_Mode</th>\n",
       "      <th>Salary_INR</th>\n",
       "    </tr>\n",
       "  </thead>\n",
       "  <tbody>\n",
       "    <tr>\n",
       "      <th>0</th>\n",
       "      <td>EMP0000001</td>\n",
       "      <td>Joshua Nguyen</td>\n",
       "      <td>IT</td>\n",
       "      <td>Software Engineer</td>\n",
       "      <td>2011-08-10</td>\n",
       "      <td>Isaacland, Denmark</td>\n",
       "      <td>5</td>\n",
       "      <td>14</td>\n",
       "      <td>Resigned</td>\n",
       "      <td>On-site</td>\n",
       "      <td>1585363</td>\n",
       "    </tr>\n",
       "    <tr>\n",
       "      <th>1</th>\n",
       "      <td>EMP0000002</td>\n",
       "      <td>Julie Williams</td>\n",
       "      <td>Marketing</td>\n",
       "      <td>SEO Specialist</td>\n",
       "      <td>2018-03-02</td>\n",
       "      <td>Anthonyside, Costa Rica</td>\n",
       "      <td>2</td>\n",
       "      <td>7</td>\n",
       "      <td>Active</td>\n",
       "      <td>On-site</td>\n",
       "      <td>847686</td>\n",
       "    </tr>\n",
       "    <tr>\n",
       "      <th>2</th>\n",
       "      <td>EMP0000003</td>\n",
       "      <td>Alyssa Martinez</td>\n",
       "      <td>HR</td>\n",
       "      <td>HR Manager</td>\n",
       "      <td>2023-03-20</td>\n",
       "      <td>Port Christinaport, Saudi Arabia</td>\n",
       "      <td>1</td>\n",
       "      <td>2</td>\n",
       "      <td>Active</td>\n",
       "      <td>On-site</td>\n",
       "      <td>1430084</td>\n",
       "    </tr>\n",
       "    <tr>\n",
       "      <th>3</th>\n",
       "      <td>EMP0000004</td>\n",
       "      <td>Nicholas Valdez</td>\n",
       "      <td>IT</td>\n",
       "      <td>Software Engineer</td>\n",
       "      <td>2023-10-12</td>\n",
       "      <td>Port Shelbychester, Antigua and Barbuda</td>\n",
       "      <td>1</td>\n",
       "      <td>1</td>\n",
       "      <td>Active</td>\n",
       "      <td>On-site</td>\n",
       "      <td>990689</td>\n",
       "    </tr>\n",
       "    <tr>\n",
       "      <th>4</th>\n",
       "      <td>EMP0000005</td>\n",
       "      <td>Joel Hendricks</td>\n",
       "      <td>Operations</td>\n",
       "      <td>Logistics Coordinator</td>\n",
       "      <td>2024-12-09</td>\n",
       "      <td>Lake Kimberly, Palestinian Territory</td>\n",
       "      <td>5</td>\n",
       "      <td>0</td>\n",
       "      <td>Active</td>\n",
       "      <td>On-site</td>\n",
       "      <td>535082</td>\n",
       "    </tr>\n",
       "    <tr>\n",
       "      <th>...</th>\n",
       "      <td>...</td>\n",
       "      <td>...</td>\n",
       "      <td>...</td>\n",
       "      <td>...</td>\n",
       "      <td>...</td>\n",
       "      <td>...</td>\n",
       "      <td>...</td>\n",
       "      <td>...</td>\n",
       "      <td>...</td>\n",
       "      <td>...</td>\n",
       "      <td>...</td>\n",
       "    </tr>\n",
       "    <tr>\n",
       "      <th>1999995</th>\n",
       "      <td>EMP1999996</td>\n",
       "      <td>Cody Russell</td>\n",
       "      <td>Operations</td>\n",
       "      <td>Logistics Coordinator</td>\n",
       "      <td>2010-08-31</td>\n",
       "      <td>Casefurt, Serbia</td>\n",
       "      <td>3</td>\n",
       "      <td>14</td>\n",
       "      <td>Active</td>\n",
       "      <td>Remote</td>\n",
       "      <td>657648</td>\n",
       "    </tr>\n",
       "    <tr>\n",
       "      <th>1999996</th>\n",
       "      <td>EMP1999997</td>\n",
       "      <td>Tracey Smith</td>\n",
       "      <td>IT</td>\n",
       "      <td>Software Engineer</td>\n",
       "      <td>2021-05-07</td>\n",
       "      <td>Dannyport, Kuwait</td>\n",
       "      <td>3</td>\n",
       "      <td>4</td>\n",
       "      <td>Active</td>\n",
       "      <td>On-site</td>\n",
       "      <td>1030109</td>\n",
       "    </tr>\n",
       "    <tr>\n",
       "      <th>1999997</th>\n",
       "      <td>EMP1999998</td>\n",
       "      <td>Tracy Lee</td>\n",
       "      <td>Sales</td>\n",
       "      <td>Business Development Manager</td>\n",
       "      <td>2024-05-29</td>\n",
       "      <td>Craighaven, Nigeria</td>\n",
       "      <td>5</td>\n",
       "      <td>1</td>\n",
       "      <td>Active</td>\n",
       "      <td>Remote</td>\n",
       "      <td>1313085</td>\n",
       "    </tr>\n",
       "    <tr>\n",
       "      <th>1999998</th>\n",
       "      <td>EMP1999999</td>\n",
       "      <td>Michael Roberson</td>\n",
       "      <td>IT</td>\n",
       "      <td>Software Engineer</td>\n",
       "      <td>2023-02-14</td>\n",
       "      <td>Jonathanmouth, Djibouti</td>\n",
       "      <td>4</td>\n",
       "      <td>2</td>\n",
       "      <td>Retired</td>\n",
       "      <td>On-site</td>\n",
       "      <td>1479727</td>\n",
       "    </tr>\n",
       "    <tr>\n",
       "      <th>1999999</th>\n",
       "      <td>EMP2000000</td>\n",
       "      <td>Angela Lambert</td>\n",
       "      <td>HR</td>\n",
       "      <td>Talent Acquisition Specialist</td>\n",
       "      <td>2020-11-11</td>\n",
       "      <td>Morganchester, Canada</td>\n",
       "      <td>1</td>\n",
       "      <td>4</td>\n",
       "      <td>Active</td>\n",
       "      <td>Remote</td>\n",
       "      <td>993718</td>\n",
       "    </tr>\n",
       "  </tbody>\n",
       "</table>\n",
       "<p>2000000 rows × 11 columns</p>\n",
       "</div>"
      ],
      "text/plain": [
       "        Employee_ID         Full_Name  Department  \\\n",
       "0        EMP0000001     Joshua Nguyen          IT   \n",
       "1        EMP0000002    Julie Williams   Marketing   \n",
       "2        EMP0000003   Alyssa Martinez          HR   \n",
       "3        EMP0000004   Nicholas Valdez          IT   \n",
       "4        EMP0000005    Joel Hendricks  Operations   \n",
       "...             ...               ...         ...   \n",
       "1999995  EMP1999996      Cody Russell  Operations   \n",
       "1999996  EMP1999997      Tracey Smith          IT   \n",
       "1999997  EMP1999998         Tracy Lee       Sales   \n",
       "1999998  EMP1999999  Michael Roberson          IT   \n",
       "1999999  EMP2000000    Angela Lambert          HR   \n",
       "\n",
       "                             Job_Title   Hire_Date  \\\n",
       "0                    Software Engineer  2011-08-10   \n",
       "1                       SEO Specialist  2018-03-02   \n",
       "2                           HR Manager  2023-03-20   \n",
       "3                    Software Engineer  2023-10-12   \n",
       "4                Logistics Coordinator  2024-12-09   \n",
       "...                                ...         ...   \n",
       "1999995          Logistics Coordinator  2010-08-31   \n",
       "1999996              Software Engineer  2021-05-07   \n",
       "1999997   Business Development Manager  2024-05-29   \n",
       "1999998              Software Engineer  2023-02-14   \n",
       "1999999  Talent Acquisition Specialist  2020-11-11   \n",
       "\n",
       "                                        Location  Performance_Rating  \\\n",
       "0                             Isaacland, Denmark                   5   \n",
       "1                        Anthonyside, Costa Rica                   2   \n",
       "2               Port Christinaport, Saudi Arabia                   1   \n",
       "3        Port Shelbychester, Antigua and Barbuda                   1   \n",
       "4           Lake Kimberly, Palestinian Territory                   5   \n",
       "...                                          ...                 ...   \n",
       "1999995                         Casefurt, Serbia                   3   \n",
       "1999996                        Dannyport, Kuwait                   3   \n",
       "1999997                      Craighaven, Nigeria                   5   \n",
       "1999998                  Jonathanmouth, Djibouti                   4   \n",
       "1999999                    Morganchester, Canada                   1   \n",
       "\n",
       "         Experience_Years    Status Work_Mode  Salary_INR  \n",
       "0                      14  Resigned   On-site     1585363  \n",
       "1                       7    Active   On-site      847686  \n",
       "2                       2    Active   On-site     1430084  \n",
       "3                       1    Active   On-site      990689  \n",
       "4                       0    Active   On-site      535082  \n",
       "...                   ...       ...       ...         ...  \n",
       "1999995                14    Active    Remote      657648  \n",
       "1999996                 4    Active   On-site     1030109  \n",
       "1999997                 1    Active    Remote     1313085  \n",
       "1999998                 2   Retired   On-site     1479727  \n",
       "1999999                 4    Active    Remote      993718  \n",
       "\n",
       "[2000000 rows x 11 columns]"
      ]
     },
     "execution_count": 7,
     "metadata": {},
     "output_type": "execute_result"
    }
   ],
   "source": [
    "df"
   ]
  },
  {
   "cell_type": "code",
   "execution_count": 8,
   "id": "8345e4dd",
   "metadata": {},
   "outputs": [],
   "source": [
    "# Changing object type to datetime \n",
    "\n",
    "df[\"Hire_Date\"] = pd.to_datetime(df[\"Hire_Date\"])"
   ]
  },
  {
   "cell_type": "code",
   "execution_count": 9,
   "id": "25695f5f",
   "metadata": {},
   "outputs": [
    {
     "name": "stdout",
     "output_type": "stream",
     "text": [
      "<class 'pandas.core.frame.DataFrame'>\n",
      "RangeIndex: 2000000 entries, 0 to 1999999\n",
      "Data columns (total 11 columns):\n",
      " #   Column              Dtype         \n",
      "---  ------              -----         \n",
      " 0   Employee_ID         object        \n",
      " 1   Full_Name           object        \n",
      " 2   Department          object        \n",
      " 3   Job_Title           object        \n",
      " 4   Hire_Date           datetime64[ns]\n",
      " 5   Location            object        \n",
      " 6   Performance_Rating  int64         \n",
      " 7   Experience_Years    int64         \n",
      " 8   Status              object        \n",
      " 9   Work_Mode           object        \n",
      " 10  Salary_INR          int64         \n",
      "dtypes: datetime64[ns](1), int64(3), object(7)\n",
      "memory usage: 167.8+ MB\n"
     ]
    }
   ],
   "source": [
    "df.info()"
   ]
  },
  {
   "cell_type": "code",
   "execution_count": 10,
   "id": "a7a33108",
   "metadata": {},
   "outputs": [
    {
     "data": {
      "text/plain": [
       "array([5, 2, 1, 4, 3])"
      ]
     },
     "execution_count": 10,
     "metadata": {},
     "output_type": "execute_result"
    }
   ],
   "source": [
    "# Exploring Performance_Rating column\n",
    "\n",
    "df[\"Performance_Rating\"].unique()"
   ]
  },
  {
   "cell_type": "code",
   "execution_count": 11,
   "id": "ada31449",
   "metadata": {},
   "outputs": [
    {
     "data": {
      "text/plain": [
       "Performance_Rating\n",
       "4    400529\n",
       "2    400174\n",
       "3    399814\n",
       "1    399756\n",
       "5    399727\n",
       "Name: count, dtype: int64"
      ]
     },
     "execution_count": 11,
     "metadata": {},
     "output_type": "execute_result"
    }
   ],
   "source": [
    "df[\"Performance_Rating\"].value_counts()"
   ]
  },
  {
   "cell_type": "code",
   "execution_count": 12,
   "id": "8397b31e",
   "metadata": {},
   "outputs": [
    {
     "data": {
      "text/plain": [
       "np.float64(3.0001485)"
      ]
     },
     "execution_count": 12,
     "metadata": {},
     "output_type": "execute_result"
    }
   ],
   "source": [
    "df[\"Performance_Rating\"].mean()"
   ]
  },
  {
   "cell_type": "code",
   "execution_count": 13,
   "id": "73920591",
   "metadata": {},
   "outputs": [
    {
     "data": {
      "text/plain": [
       "array([14,  7,  2,  1,  0,  4,  9,  5,  6,  8,  3, 10, 11, 12, 13, 15])"
      ]
     },
     "execution_count": 13,
     "metadata": {},
     "output_type": "execute_result"
    }
   ],
   "source": [
    "# Exploring Experience_Years column\n",
    "\n",
    "df[\"Experience_Years\"].unique()"
   ]
  },
  {
   "cell_type": "code",
   "execution_count": 14,
   "id": "a359821b",
   "metadata": {},
   "outputs": [
    {
     "data": {
      "text/plain": [
       "Experience_Years\n",
       "3     200522\n",
       "2     199924\n",
       "4     199866\n",
       "1     199162\n",
       "0     198775\n",
       "6     160410\n",
       "9     160223\n",
       "8     160212\n",
       "5     160112\n",
       "7     159005\n",
       "10     41209\n",
       "13     40149\n",
       "11     40146\n",
       "14     40005\n",
       "12     39709\n",
       "15       571\n",
       "Name: count, dtype: int64"
      ]
     },
     "execution_count": 14,
     "metadata": {},
     "output_type": "execute_result"
    }
   ],
   "source": [
    "df[\"Experience_Years\"].value_counts()"
   ]
  },
  {
   "cell_type": "code",
   "execution_count": 15,
   "id": "330d7807",
   "metadata": {},
   "outputs": [
    {
     "data": {
      "text/plain": [
       "np.float64(5.010287)"
      ]
     },
     "execution_count": 15,
     "metadata": {},
     "output_type": "execute_result"
    }
   ],
   "source": [
    "df[\"Experience_Years\"].mean()"
   ]
  },
  {
   "cell_type": "code",
   "execution_count": 16,
   "id": "20453994",
   "metadata": {},
   "outputs": [
    {
     "data": {
      "image/png": "[encoded data removed]",
      "text/plain": [
       "<Figure size 640x480 with 1 Axes>"
      ]
     },
     "metadata": {},
     "output_type": "display_data"
    }
   ],
   "source": [
    "sns.countplot(x=\"Experience_Years\", data= df)\n",
    "\n",
    "plt.show()"
   ]
  },
  {
   "cell_type": "code",
   "execution_count": 17,
   "id": "6b250e0c",
   "metadata": {},
   "outputs": [
    {
     "data": {
      "text/html": [
       "<div>\n",
       "<style scoped>\n",
       "    .dataframe tbody tr th:only-of-type {\n",
       "        vertical-align: middle;\n",
       "    }\n",
       "\n",
       "    .dataframe tbody tr th {\n",
       "        vertical-align: top;\n",
       "    }\n",
       "\n",
       "    .dataframe thead th {\n",
       "        text-align: right;\n",
       "    }\n",
       "</style>\n",
       "<table border=\"1\" class=\"dataframe\">\n",
       "  <thead>\n",
       "    <tr style=\"text-align: right;\">\n",
       "      <th></th>\n",
       "      <th>Employee_ID</th>\n",
       "      <th>Full_Name</th>\n",
       "      <th>Department</th>\n",
       "      <th>Job_Title</th>\n",
       "      <th>Location</th>\n",
       "      <th>Status</th>\n",
       "      <th>Work_Mode</th>\n",
       "    </tr>\n",
       "  </thead>\n",
       "  <tbody>\n",
       "    <tr>\n",
       "      <th>0</th>\n",
       "      <td>EMP0000001</td>\n",
       "      <td>Joshua Nguyen</td>\n",
       "      <td>IT</td>\n",
       "      <td>Software Engineer</td>\n",
       "      <td>Isaacland, Denmark</td>\n",
       "      <td>Resigned</td>\n",
       "      <td>On-site</td>\n",
       "    </tr>\n",
       "    <tr>\n",
       "      <th>1</th>\n",
       "      <td>EMP0000002</td>\n",
       "      <td>Julie Williams</td>\n",
       "      <td>Marketing</td>\n",
       "      <td>SEO Specialist</td>\n",
       "      <td>Anthonyside, Costa Rica</td>\n",
       "      <td>Active</td>\n",
       "      <td>On-site</td>\n",
       "    </tr>\n",
       "    <tr>\n",
       "      <th>2</th>\n",
       "      <td>EMP0000003</td>\n",
       "      <td>Alyssa Martinez</td>\n",
       "      <td>HR</td>\n",
       "      <td>HR Manager</td>\n",
       "      <td>Port Christinaport, Saudi Arabia</td>\n",
       "      <td>Active</td>\n",
       "      <td>On-site</td>\n",
       "    </tr>\n",
       "    <tr>\n",
       "      <th>3</th>\n",
       "      <td>EMP0000004</td>\n",
       "      <td>Nicholas Valdez</td>\n",
       "      <td>IT</td>\n",
       "      <td>Software Engineer</td>\n",
       "      <td>Port Shelbychester, Antigua and Barbuda</td>\n",
       "      <td>Active</td>\n",
       "      <td>On-site</td>\n",
       "    </tr>\n",
       "    <tr>\n",
       "      <th>4</th>\n",
       "      <td>EMP0000005</td>\n",
       "      <td>Joel Hendricks</td>\n",
       "      <td>Operations</td>\n",
       "      <td>Logistics Coordinator</td>\n",
       "      <td>Lake Kimberly, Palestinian Territory</td>\n",
       "      <td>Active</td>\n",
       "      <td>On-site</td>\n",
       "    </tr>\n",
       "    <tr>\n",
       "      <th>...</th>\n",
       "      <td>...</td>\n",
       "      <td>...</td>\n",
       "      <td>...</td>\n",
       "      <td>...</td>\n",
       "      <td>...</td>\n",
       "      <td>...</td>\n",
       "      <td>...</td>\n",
       "    </tr>\n",
       "    <tr>\n",
       "      <th>1999995</th>\n",
       "      <td>EMP1999996</td>\n",
       "      <td>Cody Russell</td>\n",
       "      <td>Operations</td>\n",
       "      <td>Logistics Coordinator</td>\n",
       "      <td>Casefurt, Serbia</td>\n",
       "      <td>Active</td>\n",
       "      <td>Remote</td>\n",
       "    </tr>\n",
       "    <tr>\n",
       "      <th>1999996</th>\n",
       "      <td>EMP1999997</td>\n",
       "      <td>Tracey Smith</td>\n",
       "      <td>IT</td>\n",
       "      <td>Software Engineer</td>\n",
       "      <td>Dannyport, Kuwait</td>\n",
       "      <td>Active</td>\n",
       "      <td>On-site</td>\n",
       "    </tr>\n",
       "    <tr>\n",
       "      <th>1999997</th>\n",
       "      <td>EMP1999998</td>\n",
       "      <td>Tracy Lee</td>\n",
       "      <td>Sales</td>\n",
       "      <td>Business Development Manager</td>\n",
       "      <td>Craighaven, Nigeria</td>\n",
       "      <td>Active</td>\n",
       "      <td>Remote</td>\n",
       "    </tr>\n",
       "    <tr>\n",
       "      <th>1999998</th>\n",
       "      <td>EMP1999999</td>\n",
       "      <td>Michael Roberson</td>\n",
       "      <td>IT</td>\n",
       "      <td>Software Engineer</td>\n",
       "      <td>Jonathanmouth, Djibouti</td>\n",
       "      <td>Retired</td>\n",
       "      <td>On-site</td>\n",
       "    </tr>\n",
       "    <tr>\n",
       "      <th>1999999</th>\n",
       "      <td>EMP2000000</td>\n",
       "      <td>Angela Lambert</td>\n",
       "      <td>HR</td>\n",
       "      <td>Talent Acquisition Specialist</td>\n",
       "      <td>Morganchester, Canada</td>\n",
       "      <td>Active</td>\n",
       "      <td>Remote</td>\n",
       "    </tr>\n",
       "  </tbody>\n",
       "</table>\n",
       "<p>2000000 rows × 7 columns</p>\n",
       "</div>"
      ],
      "text/plain": [
       "        Employee_ID         Full_Name  Department  \\\n",
       "0        EMP0000001     Joshua Nguyen          IT   \n",
       "1        EMP0000002    Julie Williams   Marketing   \n",
       "2        EMP0000003   Alyssa Martinez          HR   \n",
       "3        EMP0000004   Nicholas Valdez          IT   \n",
       "4        EMP0000005    Joel Hendricks  Operations   \n",
       "...             ...               ...         ...   \n",
       "1999995  EMP1999996      Cody Russell  Operations   \n",
       "1999996  EMP1999997      Tracey Smith          IT   \n",
       "1999997  EMP1999998         Tracy Lee       Sales   \n",
       "1999998  EMP1999999  Michael Roberson          IT   \n",
       "1999999  EMP2000000    Angela Lambert          HR   \n",
       "\n",
       "                             Job_Title  \\\n",
       "0                    Software Engineer   \n",
       "1                       SEO Specialist   \n",
       "2                           HR Manager   \n",
       "3                    Software Engineer   \n",
       "4                Logistics Coordinator   \n",
       "...                                ...   \n",
       "1999995          Logistics Coordinator   \n",
       "1999996              Software Engineer   \n",
       "1999997   Business Development Manager   \n",
       "1999998              Software Engineer   \n",
       "1999999  Talent Acquisition Specialist   \n",
       "\n",
       "                                        Location    Status Work_Mode  \n",
       "0                             Isaacland, Denmark  Resigned   On-site  \n",
       "1                        Anthonyside, Costa Rica    Active   On-site  \n",
       "2               Port Christinaport, Saudi Arabia    Active   On-site  \n",
       "3        Port Shelbychester, Antigua and Barbuda    Active   On-site  \n",
       "4           Lake Kimberly, Palestinian Territory    Active   On-site  \n",
       "...                                          ...       ...       ...  \n",
       "1999995                         Casefurt, Serbia    Active    Remote  \n",
       "1999996                        Dannyport, Kuwait    Active   On-site  \n",
       "1999997                      Craighaven, Nigeria    Active    Remote  \n",
       "1999998                  Jonathanmouth, Djibouti   Retired   On-site  \n",
       "1999999                    Morganchester, Canada    Active    Remote  \n",
       "\n",
       "[2000000 rows x 7 columns]"
      ]
     },
     "execution_count": 17,
     "metadata": {},
     "output_type": "execute_result"
    }
   ],
   "source": [
    "# columns having only object dtype\n",
    "\n",
    "df.select_dtypes(include=\"object\")"
   ]
  },
  {
   "cell_type": "code",
   "execution_count": 18,
   "id": "33e0cd3d",
   "metadata": {},
   "outputs": [
    {
     "data": {
      "text/html": [
       "<div>\n",
       "<style scoped>\n",
       "    .dataframe tbody tr th:only-of-type {\n",
       "        vertical-align: middle;\n",
       "    }\n",
       "\n",
       "    .dataframe tbody tr th {\n",
       "        vertical-align: top;\n",
       "    }\n",
       "\n",
       "    .dataframe thead th {\n",
       "        text-align: right;\n",
       "    }\n",
       "</style>\n",
       "<table border=\"1\" class=\"dataframe\">\n",
       "  <thead>\n",
       "    <tr style=\"text-align: right;\">\n",
       "      <th></th>\n",
       "      <th>Performance_Rating</th>\n",
       "      <th>Experience_Years</th>\n",
       "      <th>Salary_INR</th>\n",
       "    </tr>\n",
       "  </thead>\n",
       "  <tbody>\n",
       "    <tr>\n",
       "      <th>0</th>\n",
       "      <td>5</td>\n",
       "      <td>14</td>\n",
       "      <td>1585363</td>\n",
       "    </tr>\n",
       "    <tr>\n",
       "      <th>1</th>\n",
       "      <td>2</td>\n",
       "      <td>7</td>\n",
       "      <td>847686</td>\n",
       "    </tr>\n",
       "    <tr>\n",
       "      <th>2</th>\n",
       "      <td>1</td>\n",
       "      <td>2</td>\n",
       "      <td>1430084</td>\n",
       "    </tr>\n",
       "    <tr>\n",
       "      <th>3</th>\n",
       "      <td>1</td>\n",
       "      <td>1</td>\n",
       "      <td>990689</td>\n",
       "    </tr>\n",
       "    <tr>\n",
       "      <th>4</th>\n",
       "      <td>5</td>\n",
       "      <td>0</td>\n",
       "      <td>535082</td>\n",
       "    </tr>\n",
       "    <tr>\n",
       "      <th>...</th>\n",
       "      <td>...</td>\n",
       "      <td>...</td>\n",
       "      <td>...</td>\n",
       "    </tr>\n",
       "    <tr>\n",
       "      <th>1999995</th>\n",
       "      <td>3</td>\n",
       "      <td>14</td>\n",
       "      <td>657648</td>\n",
       "    </tr>\n",
       "    <tr>\n",
       "      <th>1999996</th>\n",
       "      <td>3</td>\n",
       "      <td>4</td>\n",
       "      <td>1030109</td>\n",
       "    </tr>\n",
       "    <tr>\n",
       "      <th>1999997</th>\n",
       "      <td>5</td>\n",
       "      <td>1</td>\n",
       "      <td>1313085</td>\n",
       "    </tr>\n",
       "    <tr>\n",
       "      <th>1999998</th>\n",
       "      <td>4</td>\n",
       "      <td>2</td>\n",
       "      <td>1479727</td>\n",
       "    </tr>\n",
       "    <tr>\n",
       "      <th>1999999</th>\n",
       "      <td>1</td>\n",
       "      <td>4</td>\n",
       "      <td>993718</td>\n",
       "    </tr>\n",
       "  </tbody>\n",
       "</table>\n",
       "<p>2000000 rows × 3 columns</p>\n",
       "</div>"
      ],
      "text/plain": [
       "         Performance_Rating  Experience_Years  Salary_INR\n",
       "0                         5                14     1585363\n",
       "1                         2                 7      847686\n",
       "2                         1                 2     1430084\n",
       "3                         1                 1      990689\n",
       "4                         5                 0      535082\n",
       "...                     ...               ...         ...\n",
       "1999995                   3                14      657648\n",
       "1999996                   3                 4     1030109\n",
       "1999997                   5                 1     1313085\n",
       "1999998                   4                 2     1479727\n",
       "1999999                   1                 4      993718\n",
       "\n",
       "[2000000 rows x 3 columns]"
      ]
     },
     "execution_count": 18,
     "metadata": {},
     "output_type": "execute_result"
    }
   ],
   "source": [
    "df.select_dtypes(include=\"int\")"
   ]
  },
  {
   "cell_type": "markdown",
   "id": "d130d5b7",
   "metadata": {},
   "source": [
    "#### 1. What is the distrubution of employee status ?"
   ]
  },
  {
   "cell_type": "code",
   "execution_count": 19,
   "id": "eb4efd0a",
   "metadata": {},
   "outputs": [
    {
     "data": {
      "text/plain": [
       "array(['Resigned', 'Active', 'Terminated', 'Retired'], dtype=object)"
      ]
     },
     "execution_count": 19,
     "metadata": {},
     "output_type": "execute_result"
    }
   ],
   "source": [
    "df[\"Status\"].unique()"
   ]
  },
  {
   "cell_type": "code",
   "execution_count": 20,
   "id": "c27de035",
   "metadata": {},
   "outputs": [
    {
     "data": {
      "text/plain": [
       "Status\n",
       "Active        1401558\n",
       "Resigned       398660\n",
       "Retired         99912\n",
       "Terminated      99870\n",
       "Name: count, dtype: int64"
      ]
     },
     "execution_count": 20,
     "metadata": {},
     "output_type": "execute_result"
    }
   ],
   "source": [
    "status = df[\"Status\"].value_counts()\n",
    "status"
   ]
  },
  {
   "cell_type": "code",
   "execution_count": 21,
   "id": "eaa53b54",
   "metadata": {},
   "outputs": [
    {
     "data": {
      "text/plain": [
       "pandas.core.series.Series"
      ]
     },
     "execution_count": 21,
     "metadata": {},
     "output_type": "execute_result"
    }
   ],
   "source": [
    "type(status)"
   ]
  },
  {
   "cell_type": "code",
   "execution_count": 22,
   "id": "f49d4063",
   "metadata": {},
   "outputs": [
    {
     "data": {
      "image/png": "[encoded data removed]",
      "text/plain": [
       "<Figure size 640x480 with 1 Axes>"
      ]
     },
     "metadata": {},
     "output_type": "display_data"
    }
   ],
   "source": [
    "status.plot(kind=\"pie\", color = \"bgry\",autopct = \"%1.1f%%\", explode = (0.03, 0.03, 0.03, 0.03))\n",
    "plt.show()"
   ]
  },
  {
   "cell_type": "markdown",
   "id": "cfd65207",
   "metadata": {},
   "source": [
    "#### 2. What is the distribution of work mode?"
   ]
  },
  {
   "cell_type": "code",
   "execution_count": 23,
   "id": "4e8c03e0",
   "metadata": {},
   "outputs": [
    {
     "data": {
      "text/html": [
       "<div>\n",
       "<style scoped>\n",
       "    .dataframe tbody tr th:only-of-type {\n",
       "        vertical-align: middle;\n",
       "    }\n",
       "\n",
       "    .dataframe tbody tr th {\n",
       "        vertical-align: top;\n",
       "    }\n",
       "\n",
       "    .dataframe thead th {\n",
       "        text-align: right;\n",
       "    }\n",
       "</style>\n",
       "<table border=\"1\" class=\"dataframe\">\n",
       "  <thead>\n",
       "    <tr style=\"text-align: right;\">\n",
       "      <th></th>\n",
       "      <th>Employee_ID</th>\n",
       "      <th>Full_Name</th>\n",
       "      <th>Department</th>\n",
       "      <th>Job_Title</th>\n",
       "      <th>Hire_Date</th>\n",
       "      <th>Location</th>\n",
       "      <th>Performance_Rating</th>\n",
       "      <th>Experience_Years</th>\n",
       "      <th>Status</th>\n",
       "      <th>Work_Mode</th>\n",
       "      <th>Salary_INR</th>\n",
       "    </tr>\n",
       "  </thead>\n",
       "  <tbody>\n",
       "    <tr>\n",
       "      <th>0</th>\n",
       "      <td>EMP0000001</td>\n",
       "      <td>Joshua Nguyen</td>\n",
       "      <td>IT</td>\n",
       "      <td>Software Engineer</td>\n",
       "      <td>2011-08-10</td>\n",
       "      <td>Isaacland, Denmark</td>\n",
       "      <td>5</td>\n",
       "      <td>14</td>\n",
       "      <td>Resigned</td>\n",
       "      <td>On-site</td>\n",
       "      <td>1585363</td>\n",
       "    </tr>\n",
       "    <tr>\n",
       "      <th>1</th>\n",
       "      <td>EMP0000002</td>\n",
       "      <td>Julie Williams</td>\n",
       "      <td>Marketing</td>\n",
       "      <td>SEO Specialist</td>\n",
       "      <td>2018-03-02</td>\n",
       "      <td>Anthonyside, Costa Rica</td>\n",
       "      <td>2</td>\n",
       "      <td>7</td>\n",
       "      <td>Active</td>\n",
       "      <td>On-site</td>\n",
       "      <td>847686</td>\n",
       "    </tr>\n",
       "    <tr>\n",
       "      <th>2</th>\n",
       "      <td>EMP0000003</td>\n",
       "      <td>Alyssa Martinez</td>\n",
       "      <td>HR</td>\n",
       "      <td>HR Manager</td>\n",
       "      <td>2023-03-20</td>\n",
       "      <td>Port Christinaport, Saudi Arabia</td>\n",
       "      <td>1</td>\n",
       "      <td>2</td>\n",
       "      <td>Active</td>\n",
       "      <td>On-site</td>\n",
       "      <td>1430084</td>\n",
       "    </tr>\n",
       "  </tbody>\n",
       "</table>\n",
       "</div>"
      ],
      "text/plain": [
       "  Employee_ID        Full_Name Department          Job_Title  Hire_Date  \\\n",
       "0  EMP0000001    Joshua Nguyen         IT  Software Engineer 2011-08-10   \n",
       "1  EMP0000002   Julie Williams  Marketing     SEO Specialist 2018-03-02   \n",
       "2  EMP0000003  Alyssa Martinez         HR         HR Manager 2023-03-20   \n",
       "\n",
       "                           Location  Performance_Rating  Experience_Years  \\\n",
       "0                Isaacland, Denmark                   5                14   \n",
       "1           Anthonyside, Costa Rica                   2                 7   \n",
       "2  Port Christinaport, Saudi Arabia                   1                 2   \n",
       "\n",
       "     Status Work_Mode  Salary_INR  \n",
       "0  Resigned   On-site     1585363  \n",
       "1    Active   On-site      847686  \n",
       "2    Active   On-site     1430084  "
      ]
     },
     "execution_count": 23,
     "metadata": {},
     "output_type": "execute_result"
    }
   ],
   "source": [
    "df.head(3)"
   ]
  },
  {
   "cell_type": "code",
   "execution_count": 24,
   "id": "ea71d7c9",
   "metadata": {},
   "outputs": [
    {
     "data": {
      "text/plain": [
       "array(['On-site', 'Remote'], dtype=object)"
      ]
     },
     "execution_count": 24,
     "metadata": {},
     "output_type": "execute_result"
    }
   ],
   "source": [
    "df[\"Work_Mode\"].unique()"
   ]
  },
  {
   "cell_type": "code",
   "execution_count": 25,
   "id": "4d482cf2",
   "metadata": {},
   "outputs": [
    {
     "data": {
      "text/plain": [
       "Work_Mode\n",
       "On-site    1199109\n",
       "Remote      800891\n",
       "Name: count, dtype: int64"
      ]
     },
     "execution_count": 25,
     "metadata": {},
     "output_type": "execute_result"
    }
   ],
   "source": [
    "work_mode = df[\"Work_Mode\"].value_counts()\n",
    "work_mode"
   ]
  },
  {
   "cell_type": "code",
   "execution_count": 26,
   "id": "467d6f17",
   "metadata": {},
   "outputs": [
    {
     "data": {
      "image/png": "[encoded data removed]",
      "text/plain": [
       "<Figure size 640x480 with 1 Axes>"
      ]
     },
     "metadata": {},
     "output_type": "display_data"
    }
   ],
   "source": [
    "work_mode.plot(kind=\"pie\", color=\"bp\", autopct = \"%1.1f%%\" , explode = ( 0.04, 0.04), shadow = True)\n",
    "plt.show()"
   ]
  },
  {
   "cell_type": "markdown",
   "id": "6d5038b4",
   "metadata": {},
   "source": [
    "#### 3. How many Employees are in each department?"
   ]
  },
  {
   "cell_type": "code",
   "execution_count": 27,
   "id": "becf3812",
   "metadata": {},
   "outputs": [
    {
     "data": {
      "text/html": [
       "<div>\n",
       "<style scoped>\n",
       "    .dataframe tbody tr th:only-of-type {\n",
       "        vertical-align: middle;\n",
       "    }\n",
       "\n",
       "    .dataframe tbody tr th {\n",
       "        vertical-align: top;\n",
       "    }\n",
       "\n",
       "    .dataframe thead th {\n",
       "        text-align: right;\n",
       "    }\n",
       "</style>\n",
       "<table border=\"1\" class=\"dataframe\">\n",
       "  <thead>\n",
       "    <tr style=\"text-align: right;\">\n",
       "      <th></th>\n",
       "      <th>Employee_ID</th>\n",
       "      <th>Full_Name</th>\n",
       "      <th>Department</th>\n",
       "      <th>Job_Title</th>\n",
       "      <th>Hire_Date</th>\n",
       "      <th>Location</th>\n",
       "      <th>Performance_Rating</th>\n",
       "      <th>Experience_Years</th>\n",
       "      <th>Status</th>\n",
       "      <th>Work_Mode</th>\n",
       "      <th>Salary_INR</th>\n",
       "    </tr>\n",
       "  </thead>\n",
       "  <tbody>\n",
       "    <tr>\n",
       "      <th>0</th>\n",
       "      <td>EMP0000001</td>\n",
       "      <td>Joshua Nguyen</td>\n",
       "      <td>IT</td>\n",
       "      <td>Software Engineer</td>\n",
       "      <td>2011-08-10</td>\n",
       "      <td>Isaacland, Denmark</td>\n",
       "      <td>5</td>\n",
       "      <td>14</td>\n",
       "      <td>Resigned</td>\n",
       "      <td>On-site</td>\n",
       "      <td>1585363</td>\n",
       "    </tr>\n",
       "    <tr>\n",
       "      <th>1</th>\n",
       "      <td>EMP0000002</td>\n",
       "      <td>Julie Williams</td>\n",
       "      <td>Marketing</td>\n",
       "      <td>SEO Specialist</td>\n",
       "      <td>2018-03-02</td>\n",
       "      <td>Anthonyside, Costa Rica</td>\n",
       "      <td>2</td>\n",
       "      <td>7</td>\n",
       "      <td>Active</td>\n",
       "      <td>On-site</td>\n",
       "      <td>847686</td>\n",
       "    </tr>\n",
       "    <tr>\n",
       "      <th>2</th>\n",
       "      <td>EMP0000003</td>\n",
       "      <td>Alyssa Martinez</td>\n",
       "      <td>HR</td>\n",
       "      <td>HR Manager</td>\n",
       "      <td>2023-03-20</td>\n",
       "      <td>Port Christinaport, Saudi Arabia</td>\n",
       "      <td>1</td>\n",
       "      <td>2</td>\n",
       "      <td>Active</td>\n",
       "      <td>On-site</td>\n",
       "      <td>1430084</td>\n",
       "    </tr>\n",
       "  </tbody>\n",
       "</table>\n",
       "</div>"
      ],
      "text/plain": [
       "  Employee_ID        Full_Name Department          Job_Title  Hire_Date  \\\n",
       "0  EMP0000001    Joshua Nguyen         IT  Software Engineer 2011-08-10   \n",
       "1  EMP0000002   Julie Williams  Marketing     SEO Specialist 2018-03-02   \n",
       "2  EMP0000003  Alyssa Martinez         HR         HR Manager 2023-03-20   \n",
       "\n",
       "                           Location  Performance_Rating  Experience_Years  \\\n",
       "0                Isaacland, Denmark                   5                14   \n",
       "1           Anthonyside, Costa Rica                   2                 7   \n",
       "2  Port Christinaport, Saudi Arabia                   1                 2   \n",
       "\n",
       "     Status Work_Mode  Salary_INR  \n",
       "0  Resigned   On-site     1585363  \n",
       "1    Active   On-site      847686  \n",
       "2    Active   On-site     1430084  "
      ]
     },
     "execution_count": 27,
     "metadata": {},
     "output_type": "execute_result"
    }
   ],
   "source": [
    "df.head(3)"
   ]
  },
  {
   "cell_type": "code",
   "execution_count": 28,
   "id": "abad0123",
   "metadata": {},
   "outputs": [
    {
     "data": {
      "text/plain": [
       "array(['IT', 'Marketing', 'HR', 'Operations', 'Finance', 'Sales', 'R&D'],\n",
       "      dtype=object)"
      ]
     },
     "execution_count": 28,
     "metadata": {},
     "output_type": "execute_result"
    }
   ],
   "source": [
    "df.Department.unique()"
   ]
  },
  {
   "cell_type": "code",
   "execution_count": 29,
   "id": "35156764",
   "metadata": {},
   "outputs": [
    {
     "data": {
      "text/plain": [
       "Department\n",
       "R&D            99759\n",
       "HR            159119\n",
       "Finance       199873\n",
       "Marketing     240081\n",
       "Operations    300095\n",
       "Sales         400031\n",
       "IT            601042\n",
       "Name: count, dtype: int64"
      ]
     },
     "execution_count": 29,
     "metadata": {},
     "output_type": "execute_result"
    }
   ],
   "source": [
    "dept_names = df.Department.value_counts(ascending=True)\n",
    "dept_names"
   ]
  },
  {
   "cell_type": "code",
   "execution_count": 30,
   "id": "7c74259f",
   "metadata": {},
   "outputs": [
    {
     "data": {
      "image/png": "[encoded data removed]",
      "text/plain": [
       "<Figure size 640x480 with 1 Axes>"
      ]
     },
     "metadata": {},
     "output_type": "display_data"
    }
   ],
   "source": [
    "sns.countplot(x = \"Department\", data=df)\n",
    "plt.show()"
   ]
  },
  {
   "cell_type": "code",
   "execution_count": 31,
   "id": "2a40cb24",
   "metadata": {},
   "outputs": [
    {
     "data": {
      "text/plain": [
       "Job_Title\n",
       "Software Engineer                300358\n",
       "Sales Executive                  199982\n",
       "Operations Executive             150058\n",
       "Data Analyst                     120375\n",
       "Marketing Executive              120154\n",
       "Account Manager                  119929\n",
       "Accountant                       100307\n",
       "DevOps Engineer                   90197\n",
       "Logistics Coordinator             90188\n",
       "HR Executive                      79348\n",
       "SEO Specialist                    71692\n",
       "Business Development Manager      60233\n",
       "IT Manager                        60224\n",
       "Financial Analyst                 59815\n",
       "Research Scientist                50017\n",
       "Talent Acquisition Specialist     47994\n",
       "Supply Chain Manager              44935\n",
       "Content Strategist                36154\n",
       "CTO                               29888\n",
       "Product Developer                 29872\n",
       "Finance Manager                   29799\n",
       "HR Manager                        23841\n",
       "Sales Director                    19887\n",
       "Operations Director               14914\n",
       "Lab Technician                    14829\n",
       "Brand Manager                     12081\n",
       "CFO                                9952\n",
       "HR Director                        7936\n",
       "Innovation Manager                 5041\n",
       "Name: count, dtype: int64"
      ]
     },
     "execution_count": 31,
     "metadata": {},
     "output_type": "execute_result"
    }
   ],
   "source": [
    "df.Job_Title.value_counts()"
   ]
  },
  {
   "cell_type": "code",
   "execution_count": 32,
   "id": "bf7daa40",
   "metadata": {},
   "outputs": [
    {
     "data": {
      "image/png": "[encoded data removed]",
      "text/plain": [
       "<Figure size 1000x600 with 1 Axes>"
      ]
     },
     "metadata": {},
     "output_type": "display_data"
    }
   ],
   "source": [
    "plt.figure(figsize=(10,6))\n",
    "sns.countplot(x = \"Job_Title\", data = df)\n",
    "plt.xticks(rotation = \"vertical\")\n",
    "plt.show()"
   ]
  },
  {
   "cell_type": "markdown",
   "id": "58489555",
   "metadata": {},
   "source": [
    "#### 4. What is the average salary by department?"
   ]
  },
  {
   "cell_type": "code",
   "execution_count": 33,
   "id": "eb8c851e",
   "metadata": {},
   "outputs": [
    {
     "data": {
      "text/html": [
       "<div>\n",
       "<style scoped>\n",
       "    .dataframe tbody tr th:only-of-type {\n",
       "        vertical-align: middle;\n",
       "    }\n",
       "\n",
       "    .dataframe tbody tr th {\n",
       "        vertical-align: top;\n",
       "    }\n",
       "\n",
       "    .dataframe thead th {\n",
       "        text-align: right;\n",
       "    }\n",
       "</style>\n",
       "<table border=\"1\" class=\"dataframe\">\n",
       "  <thead>\n",
       "    <tr style=\"text-align: right;\">\n",
       "      <th></th>\n",
       "      <th>Employee_ID</th>\n",
       "      <th>Full_Name</th>\n",
       "      <th>Department</th>\n",
       "      <th>Job_Title</th>\n",
       "      <th>Hire_Date</th>\n",
       "      <th>Location</th>\n",
       "      <th>Performance_Rating</th>\n",
       "      <th>Experience_Years</th>\n",
       "      <th>Status</th>\n",
       "      <th>Work_Mode</th>\n",
       "      <th>Salary_INR</th>\n",
       "    </tr>\n",
       "  </thead>\n",
       "  <tbody>\n",
       "    <tr>\n",
       "      <th>0</th>\n",
       "      <td>EMP0000001</td>\n",
       "      <td>Joshua Nguyen</td>\n",
       "      <td>IT</td>\n",
       "      <td>Software Engineer</td>\n",
       "      <td>2011-08-10</td>\n",
       "      <td>Isaacland, Denmark</td>\n",
       "      <td>5</td>\n",
       "      <td>14</td>\n",
       "      <td>Resigned</td>\n",
       "      <td>On-site</td>\n",
       "      <td>1585363</td>\n",
       "    </tr>\n",
       "    <tr>\n",
       "      <th>1</th>\n",
       "      <td>EMP0000002</td>\n",
       "      <td>Julie Williams</td>\n",
       "      <td>Marketing</td>\n",
       "      <td>SEO Specialist</td>\n",
       "      <td>2018-03-02</td>\n",
       "      <td>Anthonyside, Costa Rica</td>\n",
       "      <td>2</td>\n",
       "      <td>7</td>\n",
       "      <td>Active</td>\n",
       "      <td>On-site</td>\n",
       "      <td>847686</td>\n",
       "    </tr>\n",
       "    <tr>\n",
       "      <th>2</th>\n",
       "      <td>EMP0000003</td>\n",
       "      <td>Alyssa Martinez</td>\n",
       "      <td>HR</td>\n",
       "      <td>HR Manager</td>\n",
       "      <td>2023-03-20</td>\n",
       "      <td>Port Christinaport, Saudi Arabia</td>\n",
       "      <td>1</td>\n",
       "      <td>2</td>\n",
       "      <td>Active</td>\n",
       "      <td>On-site</td>\n",
       "      <td>1430084</td>\n",
       "    </tr>\n",
       "  </tbody>\n",
       "</table>\n",
       "</div>"
      ],
      "text/plain": [
       "  Employee_ID        Full_Name Department          Job_Title  Hire_Date  \\\n",
       "0  EMP0000001    Joshua Nguyen         IT  Software Engineer 2011-08-10   \n",
       "1  EMP0000002   Julie Williams  Marketing     SEO Specialist 2018-03-02   \n",
       "2  EMP0000003  Alyssa Martinez         HR         HR Manager 2023-03-20   \n",
       "\n",
       "                           Location  Performance_Rating  Experience_Years  \\\n",
       "0                Isaacland, Denmark                   5                14   \n",
       "1           Anthonyside, Costa Rica                   2                 7   \n",
       "2  Port Christinaport, Saudi Arabia                   1                 2   \n",
       "\n",
       "     Status Work_Mode  Salary_INR  \n",
       "0  Resigned   On-site     1585363  \n",
       "1    Active   On-site      847686  \n",
       "2    Active   On-site     1430084  "
      ]
     },
     "execution_count": 33,
     "metadata": {},
     "output_type": "execute_result"
    }
   ],
   "source": [
    "df.head(3)"
   ]
  },
  {
   "cell_type": "code",
   "execution_count": 34,
   "id": "fed52938",
   "metadata": {},
   "outputs": [
    {
     "data": {
      "text/plain": [
       "Department\n",
       "Finance        940.411743\n",
       "HR             743.853561\n",
       "IT            1129.858151\n",
       "Marketing      769.936152\n",
       "Operations     754.626253\n",
       "R&D            800.377157\n",
       "Sales          792.957860\n",
       "Name: Salary_INR, dtype: float64"
      ]
     },
     "execution_count": 34,
     "metadata": {},
     "output_type": "execute_result"
    }
   ],
   "source": [
    "avg_salary = df.groupby(\"Department\")[\"Salary_INR\"].mean()/1000\n",
    "avg_salary"
   ]
  },
  {
   "cell_type": "code",
   "execution_count": 35,
   "id": "ad182849",
   "metadata": {},
   "outputs": [
    {
     "data": {
      "image/png": "[encoded data removed]",
      "text/plain": [
       "<Figure size 800x500 with 1 Axes>"
      ]
     },
     "metadata": {},
     "output_type": "display_data"
    }
   ],
   "source": [
    "plt.figure(figsize=(8,5))\n",
    "avg_salary.plot(x = avg_salary.index, y = avg_salary.values, kind=\"bar\", color = \"c\", legend=True, width = 0.3)\n",
    "\n",
    "plt.grid()\n",
    "\n",
    "plt.yticks(range(0, int(max(avg_salary.values)) + 100, 100))\n",
    "plt.title(\"Average Salary per Department\")\n",
    "plt.ylabel(\"Salary\")\n",
    "\n",
    "plt.show()"
   ]
  },
  {
   "cell_type": "markdown",
   "id": "26d17e38",
   "metadata": {},
   "source": [
    "#### 5. Which Job Title has the highest average salary?"
   ]
  },
  {
   "cell_type": "code",
   "execution_count": 36,
   "id": "28c18679",
   "metadata": {},
   "outputs": [
    {
     "data": {
      "text/html": [
       "<div>\n",
       "<style scoped>\n",
       "    .dataframe tbody tr th:only-of-type {\n",
       "        vertical-align: middle;\n",
       "    }\n",
       "\n",
       "    .dataframe tbody tr th {\n",
       "        vertical-align: top;\n",
       "    }\n",
       "\n",
       "    .dataframe thead th {\n",
       "        text-align: right;\n",
       "    }\n",
       "</style>\n",
       "<table border=\"1\" class=\"dataframe\">\n",
       "  <thead>\n",
       "    <tr style=\"text-align: right;\">\n",
       "      <th></th>\n",
       "      <th>Employee_ID</th>\n",
       "      <th>Full_Name</th>\n",
       "      <th>Department</th>\n",
       "      <th>Job_Title</th>\n",
       "      <th>Hire_Date</th>\n",
       "      <th>Location</th>\n",
       "      <th>Performance_Rating</th>\n",
       "      <th>Experience_Years</th>\n",
       "      <th>Status</th>\n",
       "      <th>Work_Mode</th>\n",
       "      <th>Salary_INR</th>\n",
       "    </tr>\n",
       "  </thead>\n",
       "  <tbody>\n",
       "    <tr>\n",
       "      <th>0</th>\n",
       "      <td>EMP0000001</td>\n",
       "      <td>Joshua Nguyen</td>\n",
       "      <td>IT</td>\n",
       "      <td>Software Engineer</td>\n",
       "      <td>2011-08-10</td>\n",
       "      <td>Isaacland, Denmark</td>\n",
       "      <td>5</td>\n",
       "      <td>14</td>\n",
       "      <td>Resigned</td>\n",
       "      <td>On-site</td>\n",
       "      <td>1585363</td>\n",
       "    </tr>\n",
       "    <tr>\n",
       "      <th>1</th>\n",
       "      <td>EMP0000002</td>\n",
       "      <td>Julie Williams</td>\n",
       "      <td>Marketing</td>\n",
       "      <td>SEO Specialist</td>\n",
       "      <td>2018-03-02</td>\n",
       "      <td>Anthonyside, Costa Rica</td>\n",
       "      <td>2</td>\n",
       "      <td>7</td>\n",
       "      <td>Active</td>\n",
       "      <td>On-site</td>\n",
       "      <td>847686</td>\n",
       "    </tr>\n",
       "  </tbody>\n",
       "</table>\n",
       "</div>"
      ],
      "text/plain": [
       "  Employee_ID       Full_Name Department          Job_Title  Hire_Date  \\\n",
       "0  EMP0000001   Joshua Nguyen         IT  Software Engineer 2011-08-10   \n",
       "1  EMP0000002  Julie Williams  Marketing     SEO Specialist 2018-03-02   \n",
       "\n",
       "                  Location  Performance_Rating  Experience_Years    Status  \\\n",
       "0       Isaacland, Denmark                   5                14  Resigned   \n",
       "1  Anthonyside, Costa Rica                   2                 7    Active   \n",
       "\n",
       "  Work_Mode  Salary_INR  \n",
       "0   On-site     1585363  \n",
       "1   On-site      847686  "
      ]
     },
     "execution_count": 36,
     "metadata": {},
     "output_type": "execute_result"
    }
   ],
   "source": [
    "df.head(2)"
   ]
  },
  {
   "cell_type": "code",
   "execution_count": 37,
   "id": "3d512082",
   "metadata": {},
   "outputs": [
    {
     "data": {
      "text/plain": [
       "Job_Title\n",
       "Software Engineer                300358\n",
       "Sales Executive                  199982\n",
       "Operations Executive             150058\n",
       "Data Analyst                     120375\n",
       "Marketing Executive              120154\n",
       "Account Manager                  119929\n",
       "Accountant                       100307\n",
       "DevOps Engineer                   90197\n",
       "Logistics Coordinator             90188\n",
       "HR Executive                      79348\n",
       "SEO Specialist                    71692\n",
       "Business Development Manager      60233\n",
       "IT Manager                        60224\n",
       "Financial Analyst                 59815\n",
       "Research Scientist                50017\n",
       "Talent Acquisition Specialist     47994\n",
       "Supply Chain Manager              44935\n",
       "Content Strategist                36154\n",
       "CTO                               29888\n",
       "Product Developer                 29872\n",
       "Finance Manager                   29799\n",
       "HR Manager                        23841\n",
       "Sales Director                    19887\n",
       "Operations Director               14914\n",
       "Lab Technician                    14829\n",
       "Brand Manager                     12081\n",
       "CFO                                9952\n",
       "HR Director                        7936\n",
       "Innovation Manager                 5041\n",
       "Name: count, dtype: int64"
      ]
     },
     "execution_count": 37,
     "metadata": {},
     "output_type": "execute_result"
    }
   ],
   "source": [
    "\n",
    "df.Job_Title.value_counts()"
   ]
  },
  {
   "cell_type": "code",
   "execution_count": 38,
   "id": "f2d290b6",
   "metadata": {},
   "outputs": [
    {
     "data": {
      "text/plain": [
       "Job_Title\n",
       "Account Manager                   799.373734\n",
       "Accountant                        650.076482\n",
       "Brand Manager                     803.127787\n",
       "Business Development Manager     1252.016231\n",
       "CFO                               795.015873\n",
       "CTO                               801.402754\n",
       "Content Strategist                800.760030\n",
       "Data Analyst                      800.996380\n",
       "DevOps Engineer                   799.949184\n",
       "Finance Manager                  1743.241525\n",
       "Financial Analyst                1051.522903\n",
       "HR Director                       800.694437\n",
       "HR Executive                      550.548859\n",
       "HR Manager                       1252.401915\n",
       "IT Manager                       2098.155777\n",
       "Innovation Manager                801.870103\n",
       "Lab Technician                    800.181468\n",
       "Logistics Coordinator             649.631726\n",
       "Marketing Executive               798.780404\n",
       "Operations Director               798.298093\n",
       "Operations Executive              800.350915\n",
       "Product Developer                 798.652261\n",
       "Research Scientist                801.314879\n",
       "SEO Specialist                    700.456337\n",
       "Sales Director                    799.069374\n",
       "Sales Executive                   650.237755\n",
       "Software Engineer                1199.260843\n",
       "Supply Chain Manager              798.168555\n",
       "Talent Acquisition Specialist     801.422237\n",
       "Name: Salary_INR, dtype: float64"
      ]
     },
     "execution_count": 38,
     "metadata": {},
     "output_type": "execute_result"
    }
   ],
   "source": [
    "best_avg = df.groupby(\"Job_Title\")[\"Salary_INR\"].mean()/1000\n",
    "best_avg"
   ]
  },
  {
   "cell_type": "code",
   "execution_count": 39,
   "id": "bf28db25",
   "metadata": {},
   "outputs": [
    {
     "data": {
      "image/png": "[encoded data removed]",
      "text/plain": [
       "<Figure size 1000x600 with 1 Axes>"
      ]
     },
     "metadata": {},
     "output_type": "display_data"
    }
   ],
   "source": [
    "plt.figure(figsize=(10,6))\n",
    "\n",
    "\n",
    "best_avg.plot(\n",
    "    x=best_avg.index, \n",
    "    y=best_avg.values, \n",
    "    kind=\"bar\", \n",
    "    color=\"g\", \n",
    "    legend=True, \n",
    "    width=0.5,\n",
    ")\n",
    "\n",
    "\n",
    "plt.grid(True, axis=\"y\", linestyle=\"--\")\n",
    "plt.title(\"Average Salary per Job Title\")\n",
    "plt.ylabel(\"Salary\")\n",
    "plt.show()\n"
   ]
  },
  {
   "cell_type": "markdown",
   "id": "59ea926a",
   "metadata": {},
   "source": [
    "#### 6. What is the average salary in different department based on Job title?"
   ]
  },
  {
   "cell_type": "code",
   "execution_count": 40,
   "id": "71b1ab42",
   "metadata": {},
   "outputs": [
    {
     "data": {
      "text/html": [
       "<div>\n",
       "<style scoped>\n",
       "    .dataframe tbody tr th:only-of-type {\n",
       "        vertical-align: middle;\n",
       "    }\n",
       "\n",
       "    .dataframe tbody tr th {\n",
       "        vertical-align: top;\n",
       "    }\n",
       "\n",
       "    .dataframe thead th {\n",
       "        text-align: right;\n",
       "    }\n",
       "</style>\n",
       "<table border=\"1\" class=\"dataframe\">\n",
       "  <thead>\n",
       "    <tr style=\"text-align: right;\">\n",
       "      <th></th>\n",
       "      <th>Employee_ID</th>\n",
       "      <th>Full_Name</th>\n",
       "      <th>Department</th>\n",
       "      <th>Job_Title</th>\n",
       "      <th>Hire_Date</th>\n",
       "      <th>Location</th>\n",
       "      <th>Performance_Rating</th>\n",
       "      <th>Experience_Years</th>\n",
       "      <th>Status</th>\n",
       "      <th>Work_Mode</th>\n",
       "      <th>Salary_INR</th>\n",
       "    </tr>\n",
       "  </thead>\n",
       "  <tbody>\n",
       "    <tr>\n",
       "      <th>0</th>\n",
       "      <td>EMP0000001</td>\n",
       "      <td>Joshua Nguyen</td>\n",
       "      <td>IT</td>\n",
       "      <td>Software Engineer</td>\n",
       "      <td>2011-08-10</td>\n",
       "      <td>Isaacland, Denmark</td>\n",
       "      <td>5</td>\n",
       "      <td>14</td>\n",
       "      <td>Resigned</td>\n",
       "      <td>On-site</td>\n",
       "      <td>1585363</td>\n",
       "    </tr>\n",
       "    <tr>\n",
       "      <th>1</th>\n",
       "      <td>EMP0000002</td>\n",
       "      <td>Julie Williams</td>\n",
       "      <td>Marketing</td>\n",
       "      <td>SEO Specialist</td>\n",
       "      <td>2018-03-02</td>\n",
       "      <td>Anthonyside, Costa Rica</td>\n",
       "      <td>2</td>\n",
       "      <td>7</td>\n",
       "      <td>Active</td>\n",
       "      <td>On-site</td>\n",
       "      <td>847686</td>\n",
       "    </tr>\n",
       "  </tbody>\n",
       "</table>\n",
       "</div>"
      ],
      "text/plain": [
       "  Employee_ID       Full_Name Department          Job_Title  Hire_Date  \\\n",
       "0  EMP0000001   Joshua Nguyen         IT  Software Engineer 2011-08-10   \n",
       "1  EMP0000002  Julie Williams  Marketing     SEO Specialist 2018-03-02   \n",
       "\n",
       "                  Location  Performance_Rating  Experience_Years    Status  \\\n",
       "0       Isaacland, Denmark                   5                14  Resigned   \n",
       "1  Anthonyside, Costa Rica                   2                 7    Active   \n",
       "\n",
       "  Work_Mode  Salary_INR  \n",
       "0   On-site     1585363  \n",
       "1   On-site      847686  "
      ]
     },
     "execution_count": 40,
     "metadata": {},
     "output_type": "execute_result"
    }
   ],
   "source": [
    "df.head(2)"
   ]
  },
  {
   "cell_type": "code",
   "execution_count": 41,
   "id": "bafa6598",
   "metadata": {},
   "outputs": [
    {
     "data": {
      "text/plain": [
       "Department  Job_Title                    \n",
       "Finance     Accountant                        650.076482\n",
       "            CFO                               795.015873\n",
       "            Finance Manager                  1743.241525\n",
       "            Financial Analyst                1051.522903\n",
       "HR          HR Director                       800.694437\n",
       "            HR Executive                      550.548859\n",
       "            HR Manager                       1252.401915\n",
       "            Talent Acquisition Specialist     801.422237\n",
       "IT          CTO                               801.402754\n",
       "            Data Analyst                      800.996380\n",
       "            DevOps Engineer                   799.949184\n",
       "            IT Manager                       2098.155777\n",
       "            Software Engineer                1199.260843\n",
       "Marketing   Brand Manager                     803.127787\n",
       "            Content Strategist                800.760030\n",
       "            Marketing Executive               798.780404\n",
       "            SEO Specialist                    700.456337\n",
       "Operations  Logistics Coordinator             649.631726\n",
       "            Operations Director               798.298093\n",
       "            Operations Executive              800.350915\n",
       "            Supply Chain Manager              798.168555\n",
       "R&D         Innovation Manager                801.870103\n",
       "            Lab Technician                    800.181468\n",
       "            Product Developer                 798.652261\n",
       "            Research Scientist                801.314879\n",
       "Sales       Account Manager                   799.373734\n",
       "            Business Development Manager     1252.016231\n",
       "            Sales Director                    799.069374\n",
       "            Sales Executive                   650.237755\n",
       "Name: Salary_INR, dtype: float64"
      ]
     },
     "execution_count": 41,
     "metadata": {},
     "output_type": "execute_result"
    }
   ],
   "source": [
    "grouped_sal = df.groupby([\"Department\", \"Job_Title\"])[\"Salary_INR\"].mean()/1000\n",
    "grouped_sal"
   ]
  },
  {
   "cell_type": "code",
   "execution_count": 42,
   "id": "a5363ca1",
   "metadata": {},
   "outputs": [
    {
     "data": {
      "image/png": "[encoded data removed]",
      "text/plain": [
       "<Figure size 1000x500 with 1 Axes>"
      ]
     },
     "metadata": {},
     "output_type": "display_data"
    }
   ],
   "source": [
    "import random\n",
    "\n",
    "num_bars = len(grouped_sal)\n",
    "random_colors = [f'#{random.randint(0, 0xFFFFFF):06x}' for _ in range(num_bars)]\n",
    "\n",
    "grouped_sal.plot(kind=\"barh\", figsize=(10, 5), color= random_colors)\n",
    "\n",
    "plt.title(\"Average Salary in Different Department\")\n",
    "plt.xlabel(\"Salary\")\n",
    "\n",
    "plt.show()"
   ]
  },
  {
   "cell_type": "markdown",
   "id": "9ba88e8c",
   "metadata": {},
   "source": [
    "#### 7. How many Employees are Resined and Terminated in each department?"
   ]
  },
  {
   "cell_type": "code",
   "execution_count": 43,
   "id": "b9207a43",
   "metadata": {},
   "outputs": [
    {
     "data": {
      "text/html": [
       "<div>\n",
       "<style scoped>\n",
       "    .dataframe tbody tr th:only-of-type {\n",
       "        vertical-align: middle;\n",
       "    }\n",
       "\n",
       "    .dataframe tbody tr th {\n",
       "        vertical-align: top;\n",
       "    }\n",
       "\n",
       "    .dataframe thead th {\n",
       "        text-align: right;\n",
       "    }\n",
       "</style>\n",
       "<table border=\"1\" class=\"dataframe\">\n",
       "  <thead>\n",
       "    <tr style=\"text-align: right;\">\n",
       "      <th></th>\n",
       "      <th>Employee_ID</th>\n",
       "      <th>Full_Name</th>\n",
       "      <th>Department</th>\n",
       "      <th>Job_Title</th>\n",
       "      <th>Hire_Date</th>\n",
       "      <th>Location</th>\n",
       "      <th>Performance_Rating</th>\n",
       "      <th>Experience_Years</th>\n",
       "      <th>Status</th>\n",
       "      <th>Work_Mode</th>\n",
       "      <th>Salary_INR</th>\n",
       "    </tr>\n",
       "  </thead>\n",
       "  <tbody>\n",
       "    <tr>\n",
       "      <th>0</th>\n",
       "      <td>EMP0000001</td>\n",
       "      <td>Joshua Nguyen</td>\n",
       "      <td>IT</td>\n",
       "      <td>Software Engineer</td>\n",
       "      <td>2011-08-10</td>\n",
       "      <td>Isaacland, Denmark</td>\n",
       "      <td>5</td>\n",
       "      <td>14</td>\n",
       "      <td>Resigned</td>\n",
       "      <td>On-site</td>\n",
       "      <td>1585363</td>\n",
       "    </tr>\n",
       "    <tr>\n",
       "      <th>1</th>\n",
       "      <td>EMP0000002</td>\n",
       "      <td>Julie Williams</td>\n",
       "      <td>Marketing</td>\n",
       "      <td>SEO Specialist</td>\n",
       "      <td>2018-03-02</td>\n",
       "      <td>Anthonyside, Costa Rica</td>\n",
       "      <td>2</td>\n",
       "      <td>7</td>\n",
       "      <td>Active</td>\n",
       "      <td>On-site</td>\n",
       "      <td>847686</td>\n",
       "    </tr>\n",
       "  </tbody>\n",
       "</table>\n",
       "</div>"
      ],
      "text/plain": [
       "  Employee_ID       Full_Name Department          Job_Title  Hire_Date  \\\n",
       "0  EMP0000001   Joshua Nguyen         IT  Software Engineer 2011-08-10   \n",
       "1  EMP0000002  Julie Williams  Marketing     SEO Specialist 2018-03-02   \n",
       "\n",
       "                  Location  Performance_Rating  Experience_Years    Status  \\\n",
       "0       Isaacland, Denmark                   5                14  Resigned   \n",
       "1  Anthonyside, Costa Rica                   2                 7    Active   \n",
       "\n",
       "  Work_Mode  Salary_INR  \n",
       "0   On-site     1585363  \n",
       "1   On-site      847686  "
      ]
     },
     "execution_count": 43,
     "metadata": {},
     "output_type": "execute_result"
    }
   ],
   "source": [
    "df.head(2)"
   ]
  },
  {
   "cell_type": "code",
   "execution_count": 44,
   "id": "9a41e24f",
   "metadata": {},
   "outputs": [
    {
     "data": {
      "text/plain": [
       "array(['Resigned', 'Active', 'Terminated', 'Retired'], dtype=object)"
      ]
     },
     "execution_count": 44,
     "metadata": {},
     "output_type": "execute_result"
    }
   ],
   "source": [
    "df[\"Status\"].unique()"
   ]
  },
  {
   "cell_type": "code",
   "execution_count": 45,
   "id": "2a3ddb9b",
   "metadata": {},
   "outputs": [
    {
     "data": {
      "text/html": [
       "<div>\n",
       "<style scoped>\n",
       "    .dataframe tbody tr th:only-of-type {\n",
       "        vertical-align: middle;\n",
       "    }\n",
       "\n",
       "    .dataframe tbody tr th {\n",
       "        vertical-align: top;\n",
       "    }\n",
       "\n",
       "    .dataframe thead th {\n",
       "        text-align: right;\n",
       "    }\n",
       "</style>\n",
       "<table border=\"1\" class=\"dataframe\">\n",
       "  <thead>\n",
       "    <tr style=\"text-align: right;\">\n",
       "      <th></th>\n",
       "      <th>Employee_ID</th>\n",
       "      <th>Full_Name</th>\n",
       "      <th>Department</th>\n",
       "      <th>Job_Title</th>\n",
       "      <th>Hire_Date</th>\n",
       "      <th>Location</th>\n",
       "      <th>Performance_Rating</th>\n",
       "      <th>Experience_Years</th>\n",
       "      <th>Status</th>\n",
       "      <th>Work_Mode</th>\n",
       "      <th>Salary_INR</th>\n",
       "    </tr>\n",
       "  </thead>\n",
       "  <tbody>\n",
       "    <tr>\n",
       "      <th>0</th>\n",
       "      <td>EMP0000001</td>\n",
       "      <td>Joshua Nguyen</td>\n",
       "      <td>IT</td>\n",
       "      <td>Software Engineer</td>\n",
       "      <td>2011-08-10</td>\n",
       "      <td>Isaacland, Denmark</td>\n",
       "      <td>5</td>\n",
       "      <td>14</td>\n",
       "      <td>Resigned</td>\n",
       "      <td>On-site</td>\n",
       "      <td>1585363</td>\n",
       "    </tr>\n",
       "    <tr>\n",
       "      <th>8</th>\n",
       "      <td>EMP0000009</td>\n",
       "      <td>Cathy Thompson</td>\n",
       "      <td>Finance</td>\n",
       "      <td>Financial Analyst</td>\n",
       "      <td>2018-05-29</td>\n",
       "      <td>South Catherine, Belize</td>\n",
       "      <td>4</td>\n",
       "      <td>7</td>\n",
       "      <td>Resigned</td>\n",
       "      <td>Remote</td>\n",
       "      <td>1138452</td>\n",
       "    </tr>\n",
       "    <tr>\n",
       "      <th>11</th>\n",
       "      <td>EMP0000012</td>\n",
       "      <td>Kevin Lowe</td>\n",
       "      <td>Sales</td>\n",
       "      <td>Account Manager</td>\n",
       "      <td>2024-07-02</td>\n",
       "      <td>East Kent, Qatar</td>\n",
       "      <td>3</td>\n",
       "      <td>1</td>\n",
       "      <td>Resigned</td>\n",
       "      <td>On-site</td>\n",
       "      <td>1111759</td>\n",
       "    </tr>\n",
       "    <tr>\n",
       "      <th>16</th>\n",
       "      <td>EMP0000017</td>\n",
       "      <td>Robert Martin</td>\n",
       "      <td>Operations</td>\n",
       "      <td>Logistics Coordinator</td>\n",
       "      <td>2025-05-13</td>\n",
       "      <td>Laurahaven, Afghanistan</td>\n",
       "      <td>3</td>\n",
       "      <td>0</td>\n",
       "      <td>Resigned</td>\n",
       "      <td>On-site</td>\n",
       "      <td>859025</td>\n",
       "    </tr>\n",
       "    <tr>\n",
       "      <th>19</th>\n",
       "      <td>EMP0000020</td>\n",
       "      <td>Donald Hoffman</td>\n",
       "      <td>Marketing</td>\n",
       "      <td>Content Strategist</td>\n",
       "      <td>2022-04-01</td>\n",
       "      <td>South James, New Zealand</td>\n",
       "      <td>3</td>\n",
       "      <td>3</td>\n",
       "      <td>Resigned</td>\n",
       "      <td>On-site</td>\n",
       "      <td>965154</td>\n",
       "    </tr>\n",
       "  </tbody>\n",
       "</table>\n",
       "</div>"
      ],
      "text/plain": [
       "   Employee_ID       Full_Name  Department              Job_Title  Hire_Date  \\\n",
       "0   EMP0000001   Joshua Nguyen          IT      Software Engineer 2011-08-10   \n",
       "8   EMP0000009  Cathy Thompson     Finance      Financial Analyst 2018-05-29   \n",
       "11  EMP0000012      Kevin Lowe       Sales        Account Manager 2024-07-02   \n",
       "16  EMP0000017   Robert Martin  Operations  Logistics Coordinator 2025-05-13   \n",
       "19  EMP0000020  Donald Hoffman   Marketing     Content Strategist 2022-04-01   \n",
       "\n",
       "                    Location  Performance_Rating  Experience_Years    Status  \\\n",
       "0         Isaacland, Denmark                   5                14  Resigned   \n",
       "8    South Catherine, Belize                   4                 7  Resigned   \n",
       "11          East Kent, Qatar                   3                 1  Resigned   \n",
       "16   Laurahaven, Afghanistan                   3                 0  Resigned   \n",
       "19  South James, New Zealand                   3                 3  Resigned   \n",
       "\n",
       "   Work_Mode  Salary_INR  \n",
       "0    On-site     1585363  \n",
       "8     Remote     1138452  \n",
       "11   On-site     1111759  \n",
       "16   On-site      859025  \n",
       "19   On-site      965154  "
      ]
     },
     "execution_count": 45,
     "metadata": {},
     "output_type": "execute_result"
    }
   ],
   "source": [
    "df_Resigned = df[df[\"Status\"] == \"Resigned\"]\n",
    "df_Resigned.head()"
   ]
  },
  {
   "cell_type": "code",
   "execution_count": 46,
   "id": "1a9c440d",
   "metadata": {},
   "outputs": [
    {
     "data": {
      "text/plain": [
       "Department\n",
       "Finance        40238\n",
       "HR             31736\n",
       "IT            119852\n",
       "Marketing      47793\n",
       "Operations     59397\n",
       "R&D            19919\n",
       "Sales          79725\n",
       "Name: Status, dtype: int64"
      ]
     },
     "execution_count": 46,
     "metadata": {},
     "output_type": "execute_result"
    }
   ],
   "source": [
    "Resign_count = df_Resigned.groupby(\"Department\")[\"Status\"].count()\n",
    "Resign_count"
   ]
  },
  {
   "cell_type": "code",
   "execution_count": 47,
   "id": "66c73e4c",
   "metadata": {},
   "outputs": [
    {
     "data": {
      "image/png": "[encoded data removed]",
      "text/plain": [
       "<Figure size 640x480 with 1 Axes>"
      ]
     },
     "metadata": {},
     "output_type": "display_data"
    }
   ],
   "source": [
    "Resign_count.plot(x = Resign_count.index, y = Resign_count.values, kind=\"bar\", legend=True, color = \"pink\" , label= \"Resigned\")\n",
    "plt.title(\"No of Resigned Employees\")\n",
    "\n",
    "\n",
    "plt.show()"
   ]
  },
  {
   "cell_type": "code",
   "execution_count": 48,
   "id": "2712d388",
   "metadata": {},
   "outputs": [
    {
     "data": {
      "text/html": [
       "<div>\n",
       "<style scoped>\n",
       "    .dataframe tbody tr th:only-of-type {\n",
       "        vertical-align: middle;\n",
       "    }\n",
       "\n",
       "    .dataframe tbody tr th {\n",
       "        vertical-align: top;\n",
       "    }\n",
       "\n",
       "    .dataframe thead th {\n",
       "        text-align: right;\n",
       "    }\n",
       "</style>\n",
       "<table border=\"1\" class=\"dataframe\">\n",
       "  <thead>\n",
       "    <tr style=\"text-align: right;\">\n",
       "      <th></th>\n",
       "      <th>Employee_ID</th>\n",
       "      <th>Full_Name</th>\n",
       "      <th>Department</th>\n",
       "      <th>Job_Title</th>\n",
       "      <th>Hire_Date</th>\n",
       "      <th>Location</th>\n",
       "      <th>Performance_Rating</th>\n",
       "      <th>Experience_Years</th>\n",
       "      <th>Status</th>\n",
       "      <th>Work_Mode</th>\n",
       "      <th>Salary_INR</th>\n",
       "    </tr>\n",
       "  </thead>\n",
       "  <tbody>\n",
       "    <tr>\n",
       "      <th>20</th>\n",
       "      <td>EMP0000021</td>\n",
       "      <td>Mr. Billy Rodgers DDS</td>\n",
       "      <td>Marketing</td>\n",
       "      <td>Marketing Executive</td>\n",
       "      <td>2017-10-12</td>\n",
       "      <td>West Bryanton, Saint Martin</td>\n",
       "      <td>3</td>\n",
       "      <td>7</td>\n",
       "      <td>Terminated</td>\n",
       "      <td>On-site</td>\n",
       "      <td>796532</td>\n",
       "    </tr>\n",
       "    <tr>\n",
       "      <th>33</th>\n",
       "      <td>EMP0000034</td>\n",
       "      <td>Steve Carlson</td>\n",
       "      <td>IT</td>\n",
       "      <td>Software Engineer</td>\n",
       "      <td>2020-04-25</td>\n",
       "      <td>Grahamfurt, Jamaica</td>\n",
       "      <td>5</td>\n",
       "      <td>5</td>\n",
       "      <td>Terminated</td>\n",
       "      <td>On-site</td>\n",
       "      <td>1039192</td>\n",
       "    </tr>\n",
       "    <tr>\n",
       "      <th>56</th>\n",
       "      <td>EMP0000057</td>\n",
       "      <td>Claire Martinez</td>\n",
       "      <td>IT</td>\n",
       "      <td>DevOps Engineer</td>\n",
       "      <td>2020-01-17</td>\n",
       "      <td>Garciaton, Libyan Arab Jamahiriya</td>\n",
       "      <td>5</td>\n",
       "      <td>5</td>\n",
       "      <td>Terminated</td>\n",
       "      <td>Remote</td>\n",
       "      <td>838341</td>\n",
       "    </tr>\n",
       "    <tr>\n",
       "      <th>100</th>\n",
       "      <td>EMP0000101</td>\n",
       "      <td>Johnny Shepard</td>\n",
       "      <td>Finance</td>\n",
       "      <td>Accountant</td>\n",
       "      <td>2023-02-02</td>\n",
       "      <td>North Briannatown, Cuba</td>\n",
       "      <td>4</td>\n",
       "      <td>2</td>\n",
       "      <td>Terminated</td>\n",
       "      <td>On-site</td>\n",
       "      <td>892140</td>\n",
       "    </tr>\n",
       "    <tr>\n",
       "      <th>121</th>\n",
       "      <td>EMP0000122</td>\n",
       "      <td>Vanessa Brown</td>\n",
       "      <td>IT</td>\n",
       "      <td>Data Analyst</td>\n",
       "      <td>2017-08-14</td>\n",
       "      <td>South Teresa, Liechtenstein</td>\n",
       "      <td>3</td>\n",
       "      <td>8</td>\n",
       "      <td>Terminated</td>\n",
       "      <td>On-site</td>\n",
       "      <td>495474</td>\n",
       "    </tr>\n",
       "  </tbody>\n",
       "</table>\n",
       "</div>"
      ],
      "text/plain": [
       "    Employee_ID              Full_Name Department            Job_Title  \\\n",
       "20   EMP0000021  Mr. Billy Rodgers DDS  Marketing  Marketing Executive   \n",
       "33   EMP0000034          Steve Carlson         IT    Software Engineer   \n",
       "56   EMP0000057        Claire Martinez         IT      DevOps Engineer   \n",
       "100  EMP0000101         Johnny Shepard    Finance           Accountant   \n",
       "121  EMP0000122          Vanessa Brown         IT         Data Analyst   \n",
       "\n",
       "     Hire_Date                           Location  Performance_Rating  \\\n",
       "20  2017-10-12        West Bryanton, Saint Martin                   3   \n",
       "33  2020-04-25                Grahamfurt, Jamaica                   5   \n",
       "56  2020-01-17  Garciaton, Libyan Arab Jamahiriya                   5   \n",
       "100 2023-02-02            North Briannatown, Cuba                   4   \n",
       "121 2017-08-14        South Teresa, Liechtenstein                   3   \n",
       "\n",
       "     Experience_Years      Status Work_Mode  Salary_INR  \n",
       "20                  7  Terminated   On-site      796532  \n",
       "33                  5  Terminated   On-site     1039192  \n",
       "56                  5  Terminated    Remote      838341  \n",
       "100                 2  Terminated   On-site      892140  \n",
       "121                 8  Terminated   On-site      495474  "
      ]
     },
     "execution_count": 48,
     "metadata": {},
     "output_type": "execute_result"
    }
   ],
   "source": [
    "df_Terminated = df[df[\"Status\"] == \"Terminated\"]\n",
    "df_Terminated.head()"
   ]
  },
  {
   "cell_type": "code",
   "execution_count": 49,
   "id": "3b8c713c",
   "metadata": {},
   "outputs": [
    {
     "data": {
      "text/plain": [
       "Department\n",
       "Finance        9988\n",
       "HR             7861\n",
       "IT            29881\n",
       "Marketing     12044\n",
       "Operations    14884\n",
       "R&D            4998\n",
       "Sales         20214\n",
       "Name: Status, dtype: int64"
      ]
     },
     "execution_count": 49,
     "metadata": {},
     "output_type": "execute_result"
    }
   ],
   "source": [
    "termi_count = df_Terminated.groupby(\"Department\")[\"Status\"].count()\n",
    "termi_count"
   ]
  },
  {
   "cell_type": "code",
   "execution_count": 50,
   "id": "af82e637",
   "metadata": {},
   "outputs": [
    {
     "data": {
      "image/png": "[encoded data removed]",
      "text/plain": [
       "<Figure size 640x480 with 1 Axes>"
      ]
     },
     "metadata": {},
     "output_type": "display_data"
    }
   ],
   "source": [
    "termi_count.plot(x= termi_count.index, y= termi_count.values, kind=\"bar\", legend=True, label= \"Terminated\", color= \"yellow\")\n",
    "plt.title(\"No of Terminated  Employees\")\n",
    "plt.show()"
   ]
  },
  {
   "cell_type": "code",
   "execution_count": 51,
   "id": "eec6194d",
   "metadata": {},
   "outputs": [
    {
     "data": {
      "image/png": "[encoded data removed]",
      "text/plain": [
       "<Figure size 640x480 with 1 Axes>"
      ]
     },
     "metadata": {},
     "output_type": "display_data"
    }
   ],
   "source": [
    "Resign_count.plot(x = Resign_count.index, y = Resign_count.values, kind=\"bar\", legend=True, color = \"pink\" , label= \"Resigned\")\n",
    "termi_count.plot(x= termi_count.index, y= termi_count.values, kind=\"bar\", legend=True, label= \"Terminated\", color= \"yellow\")\n",
    "plt.legend(title= \"Employee Status\")\n",
    "\n",
    "plt.show()"
   ]
  },
  {
   "cell_type": "markdown",
   "id": "e2c99b26",
   "metadata": {},
   "source": [
    "#### 8. How does salary vary with year of experience?"
   ]
  },
  {
   "cell_type": "code",
   "execution_count": 52,
   "id": "b4f406d8",
   "metadata": {},
   "outputs": [
    {
     "data": {
      "text/html": [
       "<div>\n",
       "<style scoped>\n",
       "    .dataframe tbody tr th:only-of-type {\n",
       "        vertical-align: middle;\n",
       "    }\n",
       "\n",
       "    .dataframe tbody tr th {\n",
       "        vertical-align: top;\n",
       "    }\n",
       "\n",
       "    .dataframe thead th {\n",
       "        text-align: right;\n",
       "    }\n",
       "</style>\n",
       "<table border=\"1\" class=\"dataframe\">\n",
       "  <thead>\n",
       "    <tr style=\"text-align: right;\">\n",
       "      <th></th>\n",
       "      <th>Employee_ID</th>\n",
       "      <th>Full_Name</th>\n",
       "      <th>Department</th>\n",
       "      <th>Job_Title</th>\n",
       "      <th>Hire_Date</th>\n",
       "      <th>Location</th>\n",
       "      <th>Performance_Rating</th>\n",
       "      <th>Experience_Years</th>\n",
       "      <th>Status</th>\n",
       "      <th>Work_Mode</th>\n",
       "      <th>Salary_INR</th>\n",
       "    </tr>\n",
       "  </thead>\n",
       "  <tbody>\n",
       "    <tr>\n",
       "      <th>0</th>\n",
       "      <td>EMP0000001</td>\n",
       "      <td>Joshua Nguyen</td>\n",
       "      <td>IT</td>\n",
       "      <td>Software Engineer</td>\n",
       "      <td>2011-08-10</td>\n",
       "      <td>Isaacland, Denmark</td>\n",
       "      <td>5</td>\n",
       "      <td>14</td>\n",
       "      <td>Resigned</td>\n",
       "      <td>On-site</td>\n",
       "      <td>1585363</td>\n",
       "    </tr>\n",
       "    <tr>\n",
       "      <th>1</th>\n",
       "      <td>EMP0000002</td>\n",
       "      <td>Julie Williams</td>\n",
       "      <td>Marketing</td>\n",
       "      <td>SEO Specialist</td>\n",
       "      <td>2018-03-02</td>\n",
       "      <td>Anthonyside, Costa Rica</td>\n",
       "      <td>2</td>\n",
       "      <td>7</td>\n",
       "      <td>Active</td>\n",
       "      <td>On-site</td>\n",
       "      <td>847686</td>\n",
       "    </tr>\n",
       "  </tbody>\n",
       "</table>\n",
       "</div>"
      ],
      "text/plain": [
       "  Employee_ID       Full_Name Department          Job_Title  Hire_Date  \\\n",
       "0  EMP0000001   Joshua Nguyen         IT  Software Engineer 2011-08-10   \n",
       "1  EMP0000002  Julie Williams  Marketing     SEO Specialist 2018-03-02   \n",
       "\n",
       "                  Location  Performance_Rating  Experience_Years    Status  \\\n",
       "0       Isaacland, Denmark                   5                14  Resigned   \n",
       "1  Anthonyside, Costa Rica                   2                 7    Active   \n",
       "\n",
       "  Work_Mode  Salary_INR  \n",
       "0   On-site     1585363  \n",
       "1   On-site      847686  "
      ]
     },
     "execution_count": 52,
     "metadata": {},
     "output_type": "execute_result"
    }
   ],
   "source": [
    "df.head(2)"
   ]
  },
  {
   "cell_type": "code",
   "execution_count": 53,
   "id": "0e55015c",
   "metadata": {},
   "outputs": [
    {
     "data": {
      "text/plain": [
       "Experience_Years\n",
       "3     200522\n",
       "2     199924\n",
       "4     199866\n",
       "1     199162\n",
       "0     198775\n",
       "6     160410\n",
       "9     160223\n",
       "8     160212\n",
       "5     160112\n",
       "7     159005\n",
       "10     41209\n",
       "13     40149\n",
       "11     40146\n",
       "14     40005\n",
       "12     39709\n",
       "15       571\n",
       "Name: count, dtype: int64"
      ]
     },
     "execution_count": 53,
     "metadata": {},
     "output_type": "execute_result"
    }
   ],
   "source": [
    "df.Experience_Years.value_counts()"
   ]
  },
  {
   "cell_type": "code",
   "execution_count": 54,
   "id": "a618a915",
   "metadata": {},
   "outputs": [
    {
     "data": {
      "text/plain": [
       "Experience_Years\n",
       "0     896737.454775\n",
       "1     895903.759824\n",
       "2     896755.652313\n",
       "3     896861.245240\n",
       "4     897944.573965\n",
       "5     896484.084828\n",
       "6     896012.632467\n",
       "7     895722.673960\n",
       "8     897148.361090\n",
       "9     898482.940577\n",
       "10    895662.027882\n",
       "11    901452.750112\n",
       "12    896432.933416\n",
       "13    898790.197041\n",
       "14    895610.790251\n",
       "15    895647.401051\n",
       "Name: Salary_INR, dtype: float64"
      ]
     },
     "execution_count": 54,
     "metadata": {},
     "output_type": "execute_result"
    }
   ],
   "source": [
    "df.groupby(\"Experience_Years\")[\"Salary_INR\"].mean()"
   ]
  },
  {
   "cell_type": "markdown",
   "id": "a00df95a",
   "metadata": {},
   "source": [
    "#### 9. What is the average performance rating by department?"
   ]
  },
  {
   "cell_type": "code",
   "execution_count": 55,
   "id": "feb47cf0",
   "metadata": {},
   "outputs": [
    {
     "data": {
      "text/html": [
       "<div>\n",
       "<style scoped>\n",
       "    .dataframe tbody tr th:only-of-type {\n",
       "        vertical-align: middle;\n",
       "    }\n",
       "\n",
       "    .dataframe tbody tr th {\n",
       "        vertical-align: top;\n",
       "    }\n",
       "\n",
       "    .dataframe thead th {\n",
       "        text-align: right;\n",
       "    }\n",
       "</style>\n",
       "<table border=\"1\" class=\"dataframe\">\n",
       "  <thead>\n",
       "    <tr style=\"text-align: right;\">\n",
       "      <th></th>\n",
       "      <th>Employee_ID</th>\n",
       "      <th>Full_Name</th>\n",
       "      <th>Department</th>\n",
       "      <th>Job_Title</th>\n",
       "      <th>Hire_Date</th>\n",
       "      <th>Location</th>\n",
       "      <th>Performance_Rating</th>\n",
       "      <th>Experience_Years</th>\n",
       "      <th>Status</th>\n",
       "      <th>Work_Mode</th>\n",
       "      <th>Salary_INR</th>\n",
       "    </tr>\n",
       "  </thead>\n",
       "  <tbody>\n",
       "    <tr>\n",
       "      <th>0</th>\n",
       "      <td>EMP0000001</td>\n",
       "      <td>Joshua Nguyen</td>\n",
       "      <td>IT</td>\n",
       "      <td>Software Engineer</td>\n",
       "      <td>2011-08-10</td>\n",
       "      <td>Isaacland, Denmark</td>\n",
       "      <td>5</td>\n",
       "      <td>14</td>\n",
       "      <td>Resigned</td>\n",
       "      <td>On-site</td>\n",
       "      <td>1585363</td>\n",
       "    </tr>\n",
       "    <tr>\n",
       "      <th>1</th>\n",
       "      <td>EMP0000002</td>\n",
       "      <td>Julie Williams</td>\n",
       "      <td>Marketing</td>\n",
       "      <td>SEO Specialist</td>\n",
       "      <td>2018-03-02</td>\n",
       "      <td>Anthonyside, Costa Rica</td>\n",
       "      <td>2</td>\n",
       "      <td>7</td>\n",
       "      <td>Active</td>\n",
       "      <td>On-site</td>\n",
       "      <td>847686</td>\n",
       "    </tr>\n",
       "  </tbody>\n",
       "</table>\n",
       "</div>"
      ],
      "text/plain": [
       "  Employee_ID       Full_Name Department          Job_Title  Hire_Date  \\\n",
       "0  EMP0000001   Joshua Nguyen         IT  Software Engineer 2011-08-10   \n",
       "1  EMP0000002  Julie Williams  Marketing     SEO Specialist 2018-03-02   \n",
       "\n",
       "                  Location  Performance_Rating  Experience_Years    Status  \\\n",
       "0       Isaacland, Denmark                   5                14  Resigned   \n",
       "1  Anthonyside, Costa Rica                   2                 7    Active   \n",
       "\n",
       "  Work_Mode  Salary_INR  \n",
       "0   On-site     1585363  \n",
       "1   On-site      847686  "
      ]
     },
     "execution_count": 55,
     "metadata": {},
     "output_type": "execute_result"
    }
   ],
   "source": [
    "df.head(2)"
   ]
  },
  {
   "cell_type": "code",
   "execution_count": 56,
   "id": "8611a63b",
   "metadata": {},
   "outputs": [
    {
     "data": {
      "text/plain": [
       "Department\n",
       "Finance       2.996818\n",
       "HR            2.995670\n",
       "IT            2.998216\n",
       "Marketing     3.004736\n",
       "Operations    2.996081\n",
       "R&D           3.001885\n",
       "Sales         3.006362\n",
       "Name: Performance_Rating, dtype: float64"
      ]
     },
     "execution_count": 56,
     "metadata": {},
     "output_type": "execute_result"
    }
   ],
   "source": [
    "pr = df.groupby(\"Department\")[\"Performance_Rating\"].mean()\n",
    "\n",
    "pr"
   ]
  },
  {
   "cell_type": "code",
   "execution_count": 57,
   "id": "1fb540f0",
   "metadata": {},
   "outputs": [
    {
     "data": {
      "image/png": "[encoded data removed]",
      "text/plain": [
       "<Figure size 640x480 with 1 Axes>"
      ]
     },
     "metadata": {},
     "output_type": "display_data"
    }
   ],
   "source": [
    "pr.plot(x= pr.index, y= pr.values, color= \"green\")\n",
    "plt.grid(True)\n",
    "plt.title(\"Average Performance rating by Department\")\n",
    "plt.ylabel(\"Ratings\")\n",
    "\n",
    "plt.show()"
   ]
  },
  {
   "cell_type": "markdown",
   "id": "2c0652d0",
   "metadata": {},
   "source": [
    "#### 10. Which country have the highest concentration of employees?"
   ]
  },
  {
   "cell_type": "code",
   "execution_count": 58,
   "id": "17ea758a",
   "metadata": {},
   "outputs": [
    {
     "data": {
      "text/html": [
       "<div>\n",
       "<style scoped>\n",
       "    .dataframe tbody tr th:only-of-type {\n",
       "        vertical-align: middle;\n",
       "    }\n",
       "\n",
       "    .dataframe tbody tr th {\n",
       "        vertical-align: top;\n",
       "    }\n",
       "\n",
       "    .dataframe thead th {\n",
       "        text-align: right;\n",
       "    }\n",
       "</style>\n",
       "<table border=\"1\" class=\"dataframe\">\n",
       "  <thead>\n",
       "    <tr style=\"text-align: right;\">\n",
       "      <th></th>\n",
       "      <th>Employee_ID</th>\n",
       "      <th>Full_Name</th>\n",
       "      <th>Department</th>\n",
       "      <th>Job_Title</th>\n",
       "      <th>Hire_Date</th>\n",
       "      <th>Location</th>\n",
       "      <th>Performance_Rating</th>\n",
       "      <th>Experience_Years</th>\n",
       "      <th>Status</th>\n",
       "      <th>Work_Mode</th>\n",
       "      <th>Salary_INR</th>\n",
       "    </tr>\n",
       "  </thead>\n",
       "  <tbody>\n",
       "    <tr>\n",
       "      <th>0</th>\n",
       "      <td>EMP0000001</td>\n",
       "      <td>Joshua Nguyen</td>\n",
       "      <td>IT</td>\n",
       "      <td>Software Engineer</td>\n",
       "      <td>2011-08-10</td>\n",
       "      <td>Isaacland, Denmark</td>\n",
       "      <td>5</td>\n",
       "      <td>14</td>\n",
       "      <td>Resigned</td>\n",
       "      <td>On-site</td>\n",
       "      <td>1585363</td>\n",
       "    </tr>\n",
       "    <tr>\n",
       "      <th>1</th>\n",
       "      <td>EMP0000002</td>\n",
       "      <td>Julie Williams</td>\n",
       "      <td>Marketing</td>\n",
       "      <td>SEO Specialist</td>\n",
       "      <td>2018-03-02</td>\n",
       "      <td>Anthonyside, Costa Rica</td>\n",
       "      <td>2</td>\n",
       "      <td>7</td>\n",
       "      <td>Active</td>\n",
       "      <td>On-site</td>\n",
       "      <td>847686</td>\n",
       "    </tr>\n",
       "  </tbody>\n",
       "</table>\n",
       "</div>"
      ],
      "text/plain": [
       "  Employee_ID       Full_Name Department          Job_Title  Hire_Date  \\\n",
       "0  EMP0000001   Joshua Nguyen         IT  Software Engineer 2011-08-10   \n",
       "1  EMP0000002  Julie Williams  Marketing     SEO Specialist 2018-03-02   \n",
       "\n",
       "                  Location  Performance_Rating  Experience_Years    Status  \\\n",
       "0       Isaacland, Denmark                   5                14  Resigned   \n",
       "1  Anthonyside, Costa Rica                   2                 7    Active   \n",
       "\n",
       "  Work_Mode  Salary_INR  \n",
       "0   On-site     1585363  \n",
       "1   On-site      847686  "
      ]
     },
     "execution_count": 58,
     "metadata": {},
     "output_type": "execute_result"
    }
   ],
   "source": [
    "df.head(2)"
   ]
  },
  {
   "cell_type": "code",
   "execution_count": 59,
   "id": "60528f0d",
   "metadata": {},
   "outputs": [
    {
     "data": {
      "text/plain": [
       "1593497"
      ]
     },
     "execution_count": 59,
     "metadata": {},
     "output_type": "execute_result"
    }
   ],
   "source": [
    "df.Location.nunique()"
   ]
  },
  {
   "cell_type": "code",
   "execution_count": 60,
   "id": "5636abb6",
   "metadata": {},
   "outputs": [],
   "source": [
    "df[\"Country\"] = df[\"Location\"].apply( lambda x : str(x.split(\",\")[-1].strip()) )\n"
   ]
  },
  {
   "cell_type": "code",
   "execution_count": 61,
   "id": "c34e0e44",
   "metadata": {},
   "outputs": [],
   "source": [
    "df[\"Location\"] = df[\"Location\"].apply( lambda x : x.split(\",\")[0].strip() )"
   ]
  },
  {
   "cell_type": "code",
   "execution_count": 62,
   "id": "014e412f",
   "metadata": {},
   "outputs": [
    {
     "data": {
      "text/html": [
       "<div>\n",
       "<style scoped>\n",
       "    .dataframe tbody tr th:only-of-type {\n",
       "        vertical-align: middle;\n",
       "    }\n",
       "\n",
       "    .dataframe tbody tr th {\n",
       "        vertical-align: top;\n",
       "    }\n",
       "\n",
       "    .dataframe thead th {\n",
       "        text-align: right;\n",
       "    }\n",
       "</style>\n",
       "<table border=\"1\" class=\"dataframe\">\n",
       "  <thead>\n",
       "    <tr style=\"text-align: right;\">\n",
       "      <th></th>\n",
       "      <th>Employee_ID</th>\n",
       "      <th>Full_Name</th>\n",
       "      <th>Department</th>\n",
       "      <th>Job_Title</th>\n",
       "      <th>Hire_Date</th>\n",
       "      <th>Location</th>\n",
       "      <th>Performance_Rating</th>\n",
       "      <th>Experience_Years</th>\n",
       "      <th>Status</th>\n",
       "      <th>Work_Mode</th>\n",
       "      <th>Salary_INR</th>\n",
       "      <th>Country</th>\n",
       "    </tr>\n",
       "  </thead>\n",
       "  <tbody>\n",
       "    <tr>\n",
       "      <th>0</th>\n",
       "      <td>EMP0000001</td>\n",
       "      <td>Joshua Nguyen</td>\n",
       "      <td>IT</td>\n",
       "      <td>Software Engineer</td>\n",
       "      <td>2011-08-10</td>\n",
       "      <td>Isaacland</td>\n",
       "      <td>5</td>\n",
       "      <td>14</td>\n",
       "      <td>Resigned</td>\n",
       "      <td>On-site</td>\n",
       "      <td>1585363</td>\n",
       "      <td>Denmark</td>\n",
       "    </tr>\n",
       "    <tr>\n",
       "      <th>1</th>\n",
       "      <td>EMP0000002</td>\n",
       "      <td>Julie Williams</td>\n",
       "      <td>Marketing</td>\n",
       "      <td>SEO Specialist</td>\n",
       "      <td>2018-03-02</td>\n",
       "      <td>Anthonyside</td>\n",
       "      <td>2</td>\n",
       "      <td>7</td>\n",
       "      <td>Active</td>\n",
       "      <td>On-site</td>\n",
       "      <td>847686</td>\n",
       "      <td>Costa Rica</td>\n",
       "    </tr>\n",
       "  </tbody>\n",
       "</table>\n",
       "</div>"
      ],
      "text/plain": [
       "  Employee_ID       Full_Name Department          Job_Title  Hire_Date  \\\n",
       "0  EMP0000001   Joshua Nguyen         IT  Software Engineer 2011-08-10   \n",
       "1  EMP0000002  Julie Williams  Marketing     SEO Specialist 2018-03-02   \n",
       "\n",
       "      Location  Performance_Rating  Experience_Years    Status Work_Mode  \\\n",
       "0    Isaacland                   5                14  Resigned   On-site   \n",
       "1  Anthonyside                   2                 7    Active   On-site   \n",
       "\n",
       "   Salary_INR     Country  \n",
       "0     1585363     Denmark  \n",
       "1      847686  Costa Rica  "
      ]
     },
     "execution_count": 62,
     "metadata": {},
     "output_type": "execute_result"
    }
   ],
   "source": [
    "df.head(2)"
   ]
  },
  {
   "cell_type": "code",
   "execution_count": 63,
   "id": "59978cd6",
   "metadata": {},
   "outputs": [
    {
     "data": {
      "text/plain": [
       "243"
      ]
     },
     "execution_count": 63,
     "metadata": {},
     "output_type": "execute_result"
    }
   ],
   "source": [
    "df.Country.nunique()"
   ]
  },
  {
   "cell_type": "code",
   "execution_count": 64,
   "id": "a4a82bf7",
   "metadata": {},
   "outputs": [
    {
     "data": {
      "text/plain": [
       "Country\n",
       "Congo                     16286\n",
       "Korea                     16285\n",
       "Sri Lanka                  8409\n",
       "Switzerland                8391\n",
       "British Virgin Islands     8373\n",
       "                          ...  \n",
       "Indonesia                  7983\n",
       "Kazakhstan                 7973\n",
       "Montenegro                 7972\n",
       "Bhutan                     7971\n",
       "Palestinian Territory      7895\n",
       "Name: count, Length: 243, dtype: int64"
      ]
     },
     "execution_count": 64,
     "metadata": {},
     "output_type": "execute_result"
    }
   ],
   "source": [
    "df.Country.value_counts()"
   ]
  },
  {
   "cell_type": "markdown",
   "id": "48bee86c",
   "metadata": {},
   "source": [
    "#### 11. Is there any relation between performance rating and salary?"
   ]
  },
  {
   "cell_type": "code",
   "execution_count": 65,
   "id": "534a11a5",
   "metadata": {},
   "outputs": [
    {
     "data": {
      "text/html": [
       "<div>\n",
       "<style scoped>\n",
       "    .dataframe tbody tr th:only-of-type {\n",
       "        vertical-align: middle;\n",
       "    }\n",
       "\n",
       "    .dataframe tbody tr th {\n",
       "        vertical-align: top;\n",
       "    }\n",
       "\n",
       "    .dataframe thead th {\n",
       "        text-align: right;\n",
       "    }\n",
       "</style>\n",
       "<table border=\"1\" class=\"dataframe\">\n",
       "  <thead>\n",
       "    <tr style=\"text-align: right;\">\n",
       "      <th></th>\n",
       "      <th>Employee_ID</th>\n",
       "      <th>Full_Name</th>\n",
       "      <th>Department</th>\n",
       "      <th>Job_Title</th>\n",
       "      <th>Hire_Date</th>\n",
       "      <th>Location</th>\n",
       "      <th>Performance_Rating</th>\n",
       "      <th>Experience_Years</th>\n",
       "      <th>Status</th>\n",
       "      <th>Work_Mode</th>\n",
       "      <th>Salary_INR</th>\n",
       "      <th>Country</th>\n",
       "    </tr>\n",
       "  </thead>\n",
       "  <tbody>\n",
       "    <tr>\n",
       "      <th>0</th>\n",
       "      <td>EMP0000001</td>\n",
       "      <td>Joshua Nguyen</td>\n",
       "      <td>IT</td>\n",
       "      <td>Software Engineer</td>\n",
       "      <td>2011-08-10</td>\n",
       "      <td>Isaacland</td>\n",
       "      <td>5</td>\n",
       "      <td>14</td>\n",
       "      <td>Resigned</td>\n",
       "      <td>On-site</td>\n",
       "      <td>1585363</td>\n",
       "      <td>Denmark</td>\n",
       "    </tr>\n",
       "    <tr>\n",
       "      <th>1</th>\n",
       "      <td>EMP0000002</td>\n",
       "      <td>Julie Williams</td>\n",
       "      <td>Marketing</td>\n",
       "      <td>SEO Specialist</td>\n",
       "      <td>2018-03-02</td>\n",
       "      <td>Anthonyside</td>\n",
       "      <td>2</td>\n",
       "      <td>7</td>\n",
       "      <td>Active</td>\n",
       "      <td>On-site</td>\n",
       "      <td>847686</td>\n",
       "      <td>Costa Rica</td>\n",
       "    </tr>\n",
       "  </tbody>\n",
       "</table>\n",
       "</div>"
      ],
      "text/plain": [
       "  Employee_ID       Full_Name Department          Job_Title  Hire_Date  \\\n",
       "0  EMP0000001   Joshua Nguyen         IT  Software Engineer 2011-08-10   \n",
       "1  EMP0000002  Julie Williams  Marketing     SEO Specialist 2018-03-02   \n",
       "\n",
       "      Location  Performance_Rating  Experience_Years    Status Work_Mode  \\\n",
       "0    Isaacland                   5                14  Resigned   On-site   \n",
       "1  Anthonyside                   2                 7    Active   On-site   \n",
       "\n",
       "   Salary_INR     Country  \n",
       "0     1585363     Denmark  \n",
       "1      847686  Costa Rica  "
      ]
     },
     "execution_count": 65,
     "metadata": {},
     "output_type": "execute_result"
    }
   ],
   "source": [
    "df.head(2)"
   ]
  },
  {
   "cell_type": "code",
   "execution_count": 66,
   "id": "bcf156e5",
   "metadata": {},
   "outputs": [
    {
     "data": {
      "text/plain": [
       "np.float64(-0.00020919799940916325)"
      ]
     },
     "execution_count": 66,
     "metadata": {},
     "output_type": "execute_result"
    }
   ],
   "source": [
    "df.Performance_Rating.corr(df.Salary_INR)"
   ]
  },
  {
   "cell_type": "code",
   "execution_count": 67,
   "id": "dddfa1a8",
   "metadata": {},
   "outputs": [
    {
     "data": {
      "text/html": [
       "<div>\n",
       "<style scoped>\n",
       "    .dataframe tbody tr th:only-of-type {\n",
       "        vertical-align: middle;\n",
       "    }\n",
       "\n",
       "    .dataframe tbody tr th {\n",
       "        vertical-align: top;\n",
       "    }\n",
       "\n",
       "    .dataframe thead th {\n",
       "        text-align: right;\n",
       "    }\n",
       "</style>\n",
       "<table border=\"1\" class=\"dataframe\">\n",
       "  <thead>\n",
       "    <tr style=\"text-align: right;\">\n",
       "      <th></th>\n",
       "      <th>Performance_Rating</th>\n",
       "      <th>Salary_INR</th>\n",
       "    </tr>\n",
       "  </thead>\n",
       "  <tbody>\n",
       "    <tr>\n",
       "      <th>Performance_Rating</th>\n",
       "      <td>1.000000</td>\n",
       "      <td>-0.000209</td>\n",
       "    </tr>\n",
       "    <tr>\n",
       "      <th>Salary_INR</th>\n",
       "      <td>-0.000209</td>\n",
       "      <td>1.000000</td>\n",
       "    </tr>\n",
       "  </tbody>\n",
       "</table>\n",
       "</div>"
      ],
      "text/plain": [
       "                    Performance_Rating  Salary_INR\n",
       "Performance_Rating            1.000000   -0.000209\n",
       "Salary_INR                   -0.000209    1.000000"
      ]
     },
     "execution_count": 67,
     "metadata": {},
     "output_type": "execute_result"
    }
   ],
   "source": [
    "df[[\"Performance_Rating\", \"Salary_INR\"]].corr()"
   ]
  },
  {
   "cell_type": "code",
   "execution_count": 68,
   "id": "f18a1c36",
   "metadata": {},
   "outputs": [
    {
     "data": {
      "text/plain": [
       "<Axes: >"
      ]
     },
     "execution_count": 68,
     "metadata": {},
     "output_type": "execute_result"
    },
    {
     "data": {
      "image/png": "[encoded data removed]",
      "text/plain": [
       "<Figure size 640x480 with 2 Axes>"
      ]
     },
     "metadata": {},
     "output_type": "display_data"
    }
   ],
   "source": [
    "sns.heatmap(df.corr(numeric_only=True))"
   ]
  },
  {
   "cell_type": "markdown",
   "id": "11d02657",
   "metadata": {},
   "source": [
    "#### 12. How has the no of hires changed over time(per year)?"
   ]
  },
  {
   "cell_type": "code",
   "execution_count": 69,
   "id": "e78d2abd",
   "metadata": {},
   "outputs": [
    {
     "data": {
      "text/html": [
       "<div>\n",
       "<style scoped>\n",
       "    .dataframe tbody tr th:only-of-type {\n",
       "        vertical-align: middle;\n",
       "    }\n",
       "\n",
       "    .dataframe tbody tr th {\n",
       "        vertical-align: top;\n",
       "    }\n",
       "\n",
       "    .dataframe thead th {\n",
       "        text-align: right;\n",
       "    }\n",
       "</style>\n",
       "<table border=\"1\" class=\"dataframe\">\n",
       "  <thead>\n",
       "    <tr style=\"text-align: right;\">\n",
       "      <th></th>\n",
       "      <th>Employee_ID</th>\n",
       "      <th>Full_Name</th>\n",
       "      <th>Department</th>\n",
       "      <th>Job_Title</th>\n",
       "      <th>Hire_Date</th>\n",
       "      <th>Location</th>\n",
       "      <th>Performance_Rating</th>\n",
       "      <th>Experience_Years</th>\n",
       "      <th>Status</th>\n",
       "      <th>Work_Mode</th>\n",
       "      <th>Salary_INR</th>\n",
       "      <th>Country</th>\n",
       "    </tr>\n",
       "  </thead>\n",
       "  <tbody>\n",
       "    <tr>\n",
       "      <th>0</th>\n",
       "      <td>EMP0000001</td>\n",
       "      <td>Joshua Nguyen</td>\n",
       "      <td>IT</td>\n",
       "      <td>Software Engineer</td>\n",
       "      <td>2011-08-10</td>\n",
       "      <td>Isaacland</td>\n",
       "      <td>5</td>\n",
       "      <td>14</td>\n",
       "      <td>Resigned</td>\n",
       "      <td>On-site</td>\n",
       "      <td>1585363</td>\n",
       "      <td>Denmark</td>\n",
       "    </tr>\n",
       "    <tr>\n",
       "      <th>1</th>\n",
       "      <td>EMP0000002</td>\n",
       "      <td>Julie Williams</td>\n",
       "      <td>Marketing</td>\n",
       "      <td>SEO Specialist</td>\n",
       "      <td>2018-03-02</td>\n",
       "      <td>Anthonyside</td>\n",
       "      <td>2</td>\n",
       "      <td>7</td>\n",
       "      <td>Active</td>\n",
       "      <td>On-site</td>\n",
       "      <td>847686</td>\n",
       "      <td>Costa Rica</td>\n",
       "    </tr>\n",
       "  </tbody>\n",
       "</table>\n",
       "</div>"
      ],
      "text/plain": [
       "  Employee_ID       Full_Name Department          Job_Title  Hire_Date  \\\n",
       "0  EMP0000001   Joshua Nguyen         IT  Software Engineer 2011-08-10   \n",
       "1  EMP0000002  Julie Williams  Marketing     SEO Specialist 2018-03-02   \n",
       "\n",
       "      Location  Performance_Rating  Experience_Years    Status Work_Mode  \\\n",
       "0    Isaacland                   5                14  Resigned   On-site   \n",
       "1  Anthonyside                   2                 7    Active   On-site   \n",
       "\n",
       "   Salary_INR     Country  \n",
       "0     1585363     Denmark  \n",
       "1      847686  Costa Rica  "
      ]
     },
     "execution_count": 69,
     "metadata": {},
     "output_type": "execute_result"
    }
   ],
   "source": [
    "df.head(2)"
   ]
  },
  {
   "cell_type": "code",
   "execution_count": 70,
   "id": "04b68f1b",
   "metadata": {},
   "outputs": [
    {
     "data": {
      "text/plain": [
       "5479"
      ]
     },
     "execution_count": 70,
     "metadata": {},
     "output_type": "execute_result"
    }
   ],
   "source": [
    "df.Hire_Date.nunique()"
   ]
  },
  {
   "cell_type": "code",
   "execution_count": 71,
   "id": "e46fa7cf",
   "metadata": {},
   "outputs": [],
   "source": [
    "df.insert(5, \"Year\", df.Hire_Date.dt.year)"
   ]
  },
  {
   "cell_type": "code",
   "execution_count": 72,
   "id": "5082a0ad",
   "metadata": {},
   "outputs": [
    {
     "data": {
      "text/html": [
       "<div>\n",
       "<style scoped>\n",
       "    .dataframe tbody tr th:only-of-type {\n",
       "        vertical-align: middle;\n",
       "    }\n",
       "\n",
       "    .dataframe tbody tr th {\n",
       "        vertical-align: top;\n",
       "    }\n",
       "\n",
       "    .dataframe thead th {\n",
       "        text-align: right;\n",
       "    }\n",
       "</style>\n",
       "<table border=\"1\" class=\"dataframe\">\n",
       "  <thead>\n",
       "    <tr style=\"text-align: right;\">\n",
       "      <th></th>\n",
       "      <th>Employee_ID</th>\n",
       "      <th>Full_Name</th>\n",
       "      <th>Department</th>\n",
       "      <th>Job_Title</th>\n",
       "      <th>Hire_Date</th>\n",
       "      <th>Year</th>\n",
       "      <th>Location</th>\n",
       "      <th>Performance_Rating</th>\n",
       "      <th>Experience_Years</th>\n",
       "      <th>Status</th>\n",
       "      <th>Work_Mode</th>\n",
       "      <th>Salary_INR</th>\n",
       "      <th>Country</th>\n",
       "    </tr>\n",
       "  </thead>\n",
       "  <tbody>\n",
       "    <tr>\n",
       "      <th>0</th>\n",
       "      <td>EMP0000001</td>\n",
       "      <td>Joshua Nguyen</td>\n",
       "      <td>IT</td>\n",
       "      <td>Software Engineer</td>\n",
       "      <td>2011-08-10</td>\n",
       "      <td>2011</td>\n",
       "      <td>Isaacland</td>\n",
       "      <td>5</td>\n",
       "      <td>14</td>\n",
       "      <td>Resigned</td>\n",
       "      <td>On-site</td>\n",
       "      <td>1585363</td>\n",
       "      <td>Denmark</td>\n",
       "    </tr>\n",
       "    <tr>\n",
       "      <th>1</th>\n",
       "      <td>EMP0000002</td>\n",
       "      <td>Julie Williams</td>\n",
       "      <td>Marketing</td>\n",
       "      <td>SEO Specialist</td>\n",
       "      <td>2018-03-02</td>\n",
       "      <td>2018</td>\n",
       "      <td>Anthonyside</td>\n",
       "      <td>2</td>\n",
       "      <td>7</td>\n",
       "      <td>Active</td>\n",
       "      <td>On-site</td>\n",
       "      <td>847686</td>\n",
       "      <td>Costa Rica</td>\n",
       "    </tr>\n",
       "  </tbody>\n",
       "</table>\n",
       "</div>"
      ],
      "text/plain": [
       "  Employee_ID       Full_Name Department          Job_Title  Hire_Date  Year  \\\n",
       "0  EMP0000001   Joshua Nguyen         IT  Software Engineer 2011-08-10  2011   \n",
       "1  EMP0000002  Julie Williams  Marketing     SEO Specialist 2018-03-02  2018   \n",
       "\n",
       "      Location  Performance_Rating  Experience_Years    Status Work_Mode  \\\n",
       "0    Isaacland                   5                14  Resigned   On-site   \n",
       "1  Anthonyside                   2                 7    Active   On-site   \n",
       "\n",
       "   Salary_INR     Country  \n",
       "0     1585363     Denmark  \n",
       "1      847686  Costa Rica  "
      ]
     },
     "execution_count": 72,
     "metadata": {},
     "output_type": "execute_result"
    }
   ],
   "source": [
    "df.head(2)"
   ]
  },
  {
   "cell_type": "code",
   "execution_count": 73,
   "id": "bdb40245",
   "metadata": {},
   "outputs": [
    {
     "data": {
      "text/plain": [
       "Year\n",
       "2022    201373\n",
       "2024    200001\n",
       "2021    199366\n",
       "2023    198982\n",
       "2020    175460\n",
       "2017    160363\n",
       "2016    160249\n",
       "2019    160202\n",
       "2018    159658\n",
       "2025    122798\n",
       "2015     85984\n",
       "2014     40202\n",
       "2011     40089\n",
       "2013     39988\n",
       "2012     39765\n",
       "2010     15520\n",
       "Name: count, dtype: int64"
      ]
     },
     "execution_count": 73,
     "metadata": {},
     "output_type": "execute_result"
    }
   ],
   "source": [
    "df.Year.value_counts()"
   ]
  },
  {
   "cell_type": "code",
   "execution_count": 74,
   "id": "232d1aa4",
   "metadata": {},
   "outputs": [
    {
     "data": {
      "text/plain": [
       "Year\n",
       "2010     15520\n",
       "2011     40089\n",
       "2012     39765\n",
       "2013     39988\n",
       "2014     40202\n",
       "2015     85984\n",
       "2016    160249\n",
       "2017    160363\n",
       "2018    159658\n",
       "2019    160202\n",
       "2020    175460\n",
       "2021    199366\n",
       "2022    201373\n",
       "2023    198982\n",
       "2024    200001\n",
       "2025    122798\n",
       "Name: Employee_ID, dtype: int64"
      ]
     },
     "execution_count": 74,
     "metadata": {},
     "output_type": "execute_result"
    }
   ],
   "source": [
    "hire = df.groupby(\"Year\")[\"Employee_ID\"].count()\n",
    "\n",
    "hire"
   ]
  },
  {
   "cell_type": "code",
   "execution_count": 75,
   "id": "ebecea53",
   "metadata": {},
   "outputs": [
    {
     "data": {
      "image/png": "[encoded data removed]",
      "text/plain": [
       "<Figure size 640x480 with 1 Axes>"
      ]
     },
     "metadata": {},
     "output_type": "display_data"
    }
   ],
   "source": [
    "hire.plot(x= hire.index, y= hire.values, kind=\"bar\", color=\"yellow\")\n",
    "plt.title(\"No of Employees Hired per year\")\n",
    "plt.show()"
   ]
  },
  {
   "cell_type": "code",
   "execution_count": null,
   "id": "6b91cfec",
   "metadata": {},
   "outputs": [],
   "source": []
  }
 ],
 "metadata": {
  "kernelspec": {
   "display_name": "base",
   "language": "python",
   "name": "python3"
  },
  "language_info": {
   "codemirror_mode": {
    "name": "ipython",
    "version": 3
   },
   "file_extension": ".py",
   "mimetype": "text/x-python",
   "name": "python",
   "nbconvert_exporter": "python",
   "pygments_lexer": "ipython3",
   "version": "3.13.5"
  }
 },
 "nbformat": 4,
 "nbformat_minor": 5
}
